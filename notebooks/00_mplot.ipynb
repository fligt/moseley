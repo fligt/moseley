{
 "cells": [
  {
   "cell_type": "code",
   "execution_count": null,
   "metadata": {},
   "outputs": [],
   "source": [
    "#default_exp mplot"
   ]
  },
  {
   "cell_type": "markdown",
   "metadata": {},
   "source": [
    "# Moseley's law \n",
    "\n",
    "> The key to understanding XRF"
   ]
  },
  {
   "cell_type": "markdown",
   "metadata": {},
   "source": [
    "An x-ray fluorescence spectrum for a specific pure element contains a characteristic combination of peaks of different heights at different energies. It follows that for a material that contains a mixture of different elements a  spectrum with a complex pattern of peaks will arise. Inferring a material composition from a measured XRF spectrum amounts to attributing peaks to elements. \n",
    "\n",
    "In 1913-1914 the young British physicist [Henry Moseley](https://en.wikipedia.org/wiki/Moseley%27s_law) discovered a beautifully simple regular pattern that relates the energy of the (typically) strongest peak in a pure element spectrum (called the $K_{\\alpha}$ line) to the atomic number ($Z$). \n",
    "\n",
    "$$ E_{K_{\\alpha}} = 10.2 \\left( Z^2 - 1 \\right) $$\n",
    "\n",
    "Where the energy is expressed in units of electron volt $[eV]$. Suppose now that you observe a large peak in a spectrum at a given energy but it is unknown which element generated. It is useful now to invert this expression to calculate the atomic number of the prime suspect chemical element that possibly emitted the peak. \n",
    "\n",
    "$$ Z = \\sqrt{\\frac{E_{K_{\\alpha}}}{10.2}} + 1 $$\n",
    "\n",
    "Note that that we have simple a square root function here. As a practical numerical example, suppose now we measure an XRF spectrum for a sample of a pure (for the sake of this exercise) unknown element (See figure x). The largest peak in this spectrum has an energy of 6.40 keV = 6400 eV. Rounding off one can calculate\n",
    "\n",
    "$$ Z = \\sqrt{\\frac{6400}{10.2}} + 1 = 26.05 \\approx 26 $$\n",
    "\n",
    "In the periodic table it is found that this atomic number corresponds to iron (Fe), which indeed is the element used for the measurement. "
   ]
  },
  {
   "cell_type": "markdown",
   "metadata": {},
   "source": [
    "## Playing with XRF physics - Creating a Moseley plot\n",
    "\n",
    "In order to develop a further intuition of XRF physics beyond Moseley's law, I thought it would be a good thing to create a plot with an overview of theoretical pure element XRF spectra for the complete periodic system. As a tribute to Henry Moseley I would like to name this plot after him.    \n",
    "\n",
    "I am not an expert in XRF physics whatsoever. And therefore I am not able to predict the complex spectral patterns by myself. However, thanks to the open source scientific community advanced python packages are readily available from the python package index to make generate spectra. An excellent resource for simulating XRF physics is `fisx`, the periodic table can be consulted using `mendeleev`, plotting and peak finding can be done with `scipy` and `matplotlib`. \n",
    "\n",
    "*A Moseley plot here soon*   "
   ]
  },
  {
   "cell_type": "code",
   "execution_count": null,
   "metadata": {},
   "outputs": [],
   "source": [
    "#export \n",
    "def abc(x): \n",
    "    print(f'hoi {x}')"
   ]
  }
 ],
 "metadata": {
  "kernelspec": {
   "display_name": "Python 3",
   "language": "python",
   "name": "python3"
  }
 },
 "nbformat": 4,
 "nbformat_minor": 2
}
