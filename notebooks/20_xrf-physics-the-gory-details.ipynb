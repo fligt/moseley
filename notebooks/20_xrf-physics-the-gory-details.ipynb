{
 "cells": [
  {
   "cell_type": "raw",
   "metadata": {},
   "source": [
    "---\n",
    "skip_exec: true \n",
    "---"
   ]
  },
  {
   "cell_type": "code",
   "execution_count": null,
   "metadata": {},
   "outputs": [],
   "source": [
    "#|default_exp xphysics "
   ]
  },
  {
   "cell_type": "markdown",
   "metadata": {},
   "source": [
    "# XRF physics - the gory details  \n",
    "\n",
    "> How to compute your own spectrum from fundamental constants   "
   ]
  },
  {
   "cell_type": "markdown",
   "metadata": {},
   "source": [
    "**If you are not into physics, you can safely skip this section.**"
   ]
  },
  {
   "cell_type": "markdown",
   "metadata": {},
   "source": [
    "In a previous section of this documentation I described how one can use the `ElementXRF(<element>)` class to compute an x-ray fluorescence spectrum object for a given chemical element. The whole point of the `moseley`  package is to enable you to do so but to protect you from the gory details of XRF physics. However, in case you are interested to learn how this computation is done you can find the details of that calculation here.     \n",
    "\n",
    "The modeling of X-ray fluorescence spectra is described in a nice tutorial *Basic Fundamental Parameters in X-Ray Fluorescence* by Volker Thomsen [online](https://www.spectroscopyonline.com/view/basic-fundamental-parameters-x-ray-fluorescence) and as [pdf](abc).\n",
    "\n",
    "    @Article{Thomsen_2007,\n",
    "      author    = {Thomsen, Volker},\n",
    "      title     = {Basic fundamental parameters in X-ray fluorescence},\n",
    "      journal   = {SPECTROSCOPY-SPRINGFIELD THEN EUGENE THEN DULUTH-},\n",
    "      year      = {2007},\n",
    "      volume    = {22},\n",
    "      number    = {5},\n",
    "      pages     = {46-50},\n",
    "      url       = {https://www.spectroscopyonline.com/view/basic-fundamental-parameters-x-ray-fluorescence},\n",
    "    }\n",
    "\n",
    "The fundamental parameters are measured x-ray properties of chemical elements that we need to look up somehow. Not so very long ago physicist would look up the x-ray fluorescence energies and other measured properties of different chemical elements in the *X-RAY DATA BOOKLET*. Instead, more conveniently I will show how to look up those values programmatically using the well documented python package. See [pypi](https://pypi.org/project/xraydb/) and [github](https://github.com/xraypy/XrayDB). One can also consult these values in the XRayDB [interactive web app](https://xraydb.xrayabsorption.org/element/Fe). \n"
   ]
  },
  {
   "cell_type": "markdown",
   "metadata": {},
   "source": [
    "<a href=\"https://cxro.lbl.gov/x-ray-data-booklet\"><img width=20% src=\"https://cxro.lbl.gov//images/X-Ray-Data-Booklet/x-ray-data-booklet-324px-v02.jpg\"></a>"
   ]
  },
  {
   "cell_type": "markdown",
   "metadata": {},
   "source": [
    "So, let's see how we can implement some of the equations in the tutorial by Volker Thomsen and look up the required parameter values using `xraydb`..."
   ]
  },
  {
   "cell_type": "markdown",
   "metadata": {},
   "source": [
    "\n",
    "## Pure iron \n",
    "\n",
    "Let's check if we can reproduce the numerical example for the intensity of the iron $K_{\\alpha}$ emission intensity of a thick pure iron irradiated by a cadmium isotope emitting at 22.1 keV. Here is the approximate equation describing the intensity of the $K_{\\alpha}$ peak for a thick sample of iron. *The emission intensity quickly approaches a maximum due to the limited penetration of the radiation into the sample*: \n",
    "\n",
    "$$ I_i = (I_0 C_i J_K g_{Ka} \\omega_K)(\\Omega/4 \\pi)\\frac{\\mu_i}{\\mu_s + \\mu_{s,Ei}} \\tag{Thomsen eq. 12}$$\n"
   ]
  },
  {
   "cell_type": "markdown",
   "metadata": {},
   "source": [
    "Let's try to extract numerical values for the transition probability $g_{K \\alpha}$, the jump ratio coefficient $J_K$, the fluorescence yield $\\omega_K$ and the mass absorption coefficients at the at the incoming energy $\\mu_{i}$ and emission energy $\\mu_{s,Ei}$ from `xraydb`. \n",
    "\n",
    "$$g_{K \\alpha} = 0.882$$ \n",
    "\n",
    "$$J_K = 0.877$$ \n",
    "\n",
    "$$\\omega_K = 0.347$$ \n",
    "\n",
    "$$\\mu_i = \\mu_s = 18.55 cm^2/g \\tag{at 22.1 keV}$$ \n",
    "\n",
    "$$\\mu_{s,Ei} = 70.46 cm^2/g \\tag{at 6.4 keV} $$ \n"
   ]
  },
  {
   "cell_type": "markdown",
   "metadata": {},
   "source": [
    "### Transition probability $g_{K_{\\alpha}}$\n"
   ]
  },
  {
   "cell_type": "markdown",
   "metadata": {},
   "source": [
    "Let's take a look at to transition probability $ g_{K \\alpha}$. This the probability that $K_{\\alpha}$ radiation will be emitted rather than that of another K line which is given by:  \n",
    "\n",
    "$$ g_{K\\alpha} = \\frac{I(K_{\\alpha})}{I(K_{\\alpha}) + I(K_{\\beta}) +...} \\tag{Thomsen eq. 6} $$"
   ]
  },
  {
   "cell_type": "markdown",
   "metadata": {},
   "source": [
    "Starting point for all calculations is an overview of emission lines for the element of interest these can be accessed using the function `xray_lines()`. "
   ]
  },
  {
   "cell_type": "code",
   "execution_count": 1,
   "metadata": {
    "execution": {
     "iopub.execute_input": "2025-10-17T11:14:58.720532Z",
     "iopub.status.busy": "2025-10-17T11:14:58.720058Z",
     "iopub.status.idle": "2025-10-17T11:14:59.095950Z",
     "shell.execute_reply": "2025-10-17T11:14:59.095482Z",
     "shell.execute_reply.started": "2025-10-17T11:14:58.720510Z"
    }
   },
   "outputs": [],
   "source": [
    "import xraydb  "
   ]
  },
  {
   "cell_type": "code",
   "execution_count": 2,
   "metadata": {
    "execution": {
     "iopub.execute_input": "2025-10-17T11:14:59.936354Z",
     "iopub.status.busy": "2025-10-17T11:14:59.936027Z",
     "iopub.status.idle": "2025-10-17T11:14:59.976422Z",
     "shell.execute_reply": "2025-10-17T11:14:59.975965Z",
     "shell.execute_reply.started": "2025-10-17T11:14:59.936332Z"
    }
   },
   "outputs": [
    {
     "data": {
      "text/plain": [
       "{'Ka3': XrayLine(energy=6267.4, intensity=0.000276096, initial_level='K', final_level='L1'),\n",
       " 'Ka2': XrayLine(energy=6392.1, intensity=0.294023, initial_level='K', final_level='L2'),\n",
       " 'Ka1': XrayLine(energy=6405.2, intensity=0.580277, initial_level='K', final_level='L3'),\n",
       " 'Kb3': XrayLine(energy=7059.3, intensity=0.0425566, initial_level='K', final_level='M2'),\n",
       " 'Kb1': XrayLine(energy=7059.3, intensity=0.0821556, initial_level='K', final_level='M3'),\n",
       " 'Kb5': XrayLine(energy=7110.0, intensity=0.000712115, initial_level='K', final_level='M4,5'),\n",
       " 'Lb4': XrayLine(energy=791.9, intensity=0.413833, initial_level='L1', final_level='M2'),\n",
       " 'Lb3': XrayLine(energy=791.9, intensity=0.586166, initial_level='L1', final_level='M3'),\n",
       " 'Ln': XrayLine(energy=628.6, intensity=0.0742626, initial_level='L2', final_level='M1'),\n",
       " 'Lb1': XrayLine(energy=717.9, intensity=0.925737, initial_level='L2', final_level='M4'),\n",
       " 'Ll': XrayLine(energy=615.5, intensity=0.0990365, initial_level='L3', final_level='M1'),\n",
       " 'La2': XrayLine(energy=704.8, intensity=0.0892847, initial_level='L3', final_level='M4'),\n",
       " 'La1': XrayLine(energy=704.8, intensity=0.811679, initial_level='L3', final_level='M5')}"
      ]
     },
     "execution_count": 2,
     "metadata": {},
     "output_type": "execute_result"
    }
   ],
   "source": [
    "xraydb.xray_lines('Fe')"
   ]
  },
  {
   "cell_type": "markdown",
   "metadata": {},
   "source": [
    "The names of these lines are denoted in [Siegbahn](https://en.wikipedia.org/wiki/Siegbahn_notation) notation (e.g. *Ka3*, where '*a*' stands for alpha). The lines are grouped according to their initial level, denoted with the IUPAC notation e.g. 'K' or 'L1'. Within these groups the `intensities` a.k.a. transition probabilities are normalized to unity. The intensity of the $K_{\\alpha}$ line is actually a sum of multiple overlapping `Ka` lines. "
   ]
  },
  {
   "cell_type": "markdown",
   "metadata": {},
   "source": [
    "To the `xray_lines()` function one could provide an additional argument of an `excitation_energy` (in units of electron Volts [eV]) . This simply crops the list to emission lines below the corresponding edge, like so:"
   ]
  },
  {
   "cell_type": "code",
   "execution_count": 3,
   "metadata": {
    "execution": {
     "iopub.execute_input": "2025-10-17T11:15:02.008470Z",
     "iopub.status.busy": "2025-10-17T11:15:02.007920Z",
     "iopub.status.idle": "2025-10-17T11:15:02.015863Z",
     "shell.execute_reply": "2025-10-17T11:15:02.015233Z",
     "shell.execute_reply.started": "2025-10-17T11:15:02.008458Z"
    }
   },
   "outputs": [
    {
     "data": {
      "text/plain": [
       "{'Lb4': XrayLine(energy=791.9, intensity=0.413833, initial_level='L1', final_level='M2'),\n",
       " 'Lb3': XrayLine(energy=791.9, intensity=0.586166, initial_level='L1', final_level='M3'),\n",
       " 'Ln': XrayLine(energy=628.6, intensity=0.0742626, initial_level='L2', final_level='M1'),\n",
       " 'Lb1': XrayLine(energy=717.9, intensity=0.925737, initial_level='L2', final_level='M4'),\n",
       " 'Ll': XrayLine(energy=615.5, intensity=0.0990365, initial_level='L3', final_level='M1'),\n",
       " 'La2': XrayLine(energy=704.8, intensity=0.0892847, initial_level='L3', final_level='M4'),\n",
       " 'La1': XrayLine(energy=704.8, intensity=0.811679, initial_level='L3', final_level='M5')}"
      ]
     },
     "execution_count": 3,
     "metadata": {},
     "output_type": "execute_result"
    }
   ],
   "source": [
    "xraydb.xray_lines('Fe', excitation_energy=7111) # just below the K edge at 7112"
   ]
  },
  {
   "cell_type": "markdown",
   "metadata": {},
   "source": [
    "Let's see if the iron $K$ intensities sum up to unity. "
   ]
  },
  {
   "cell_type": "code",
   "execution_count": 4,
   "metadata": {
    "execution": {
     "iopub.execute_input": "2025-10-17T11:15:03.464340Z",
     "iopub.status.busy": "2025-10-17T11:15:03.463900Z",
     "iopub.status.idle": "2025-10-17T11:15:03.470980Z",
     "shell.execute_reply": "2025-10-17T11:15:03.470335Z",
     "shell.execute_reply.started": "2025-10-17T11:15:03.464319Z"
    }
   },
   "outputs": [
    {
     "name": "stdout",
     "output_type": "stream",
     "text": [
      "['Ka3', 'Ka2', 'Ka1', 'Kb3', 'Kb1', 'Kb5', 'Lb4', 'Lb3', 'Ln', 'Lb1', 'Ll', 'La2', 'La1']\n",
      "['Ka3', 'Ka2', 'Ka1']\n",
      "['Kb3', 'Kb1', 'Kb5']\n",
      "Fe_Ka intensity: 0.8746, Fe_Kb intensity: 0.1254\n",
      "Fe_K total: 1.0000\n"
     ]
    }
   ],
   "source": [
    "Fe_lines = xraydb.xray_lines('Fe') \n",
    "Fe_names = list(Fe_lines.keys())\n",
    "FeK_names = [name for name in Fe_names if name.startswith('K')]\n",
    "FeKa_names = [name for name in Fe_names if name.startswith('Ka')]\n",
    "FeKb_names = [name for name in Fe_names if name.startswith('Kb')]\n",
    "\n",
    "FeK_total = sum([Fe_lines[l].intensity for l in FeK_names])\n",
    "FeKa_intensity = sum([Fe_lines[l].intensity for l in FeKa_names])\n",
    "FeKb_intensity = sum([Fe_lines[l].intensity for l in FeKb_names])\n",
    "\n",
    "print(Fe_names)\n",
    "print(FeKa_names)\n",
    "print(FeKb_names) \n",
    "\n",
    "print(f'Fe_Ka intensity: {FeKa_intensity:.04f}, Fe_Kb intensity: {FeKb_intensity:.04f}')     \n",
    "print(f'Fe_K total: {FeK_total:.04f}')"
   ]
  },
  {
   "cell_type": "markdown",
   "metadata": {},
   "source": [
    "The transition probability value reported by Thomsen $g_{K\\alpha} = 0.882$ is actually **one percent higher** then our calculated value $0.8746$. Perhaps this is due to to the varying energies within a line envelope. "
   ]
  },
  {
   "cell_type": "markdown",
   "metadata": {},
   "source": [
    "### Jump ratio coefficient $J_K$"
   ]
  },
  {
   "cell_type": "markdown",
   "metadata": {},
   "source": [
    "For each line the initial level corresponds to a specific absorption edge (denoted with IUPAC notation e.g. 'K' or 'L1'. An overview can be found using `xray_edges()`.  "
   ]
  },
  {
   "cell_type": "code",
   "execution_count": 5,
   "metadata": {
    "execution": {
     "iopub.execute_input": "2025-10-17T11:15:09.668502Z",
     "iopub.status.busy": "2025-10-17T11:15:09.668058Z",
     "iopub.status.idle": "2025-10-17T11:15:09.673392Z",
     "shell.execute_reply": "2025-10-17T11:15:09.672855Z",
     "shell.execute_reply.started": "2025-10-17T11:15:09.668479Z"
    }
   },
   "outputs": [
    {
     "data": {
      "text/plain": [
       "{'K': XrayEdge(energy=7112.0, fyield=0.350985, jump_ratio=7.893),\n",
       " 'L1': XrayEdge(energy=844.6, fyield=0.001, jump_ratio=1.1289),\n",
       " 'L2': XrayEdge(energy=719.9, fyield=0.0036, jump_ratio=1.4),\n",
       " 'L3': XrayEdge(energy=706.8, fyield=0.0063, jump_ratio=3.099),\n",
       " 'M1': XrayEdge(energy=91.3, fyield=2.8e-06, jump_ratio=1.0),\n",
       " 'M2': XrayEdge(energy=52.7, fyield=1.6e-05, jump_ratio=1.0),\n",
       " 'M3': XrayEdge(energy=52.7, fyield=0.0, jump_ratio=1.0),\n",
       " 'M4': XrayEdge(energy=2.0, fyield=0.00219375, jump_ratio=1.0),\n",
       " 'M5': XrayEdge(energy=2.0, fyield=0.0, jump_ratio=1.0)}"
      ]
     },
     "execution_count": 5,
     "metadata": {},
     "output_type": "execute_result"
    }
   ],
   "source": [
    "xraydb.xray_edges('Fe')"
   ]
  },
  {
   "cell_type": "markdown",
   "metadata": {},
   "source": [
    "More convenient, the properties of a specific element edge can be found using the function `xray_edge()`.  "
   ]
  },
  {
   "cell_type": "code",
   "execution_count": 6,
   "metadata": {
    "execution": {
     "iopub.execute_input": "2025-10-17T11:15:10.908189Z",
     "iopub.status.busy": "2025-10-17T11:15:10.907419Z",
     "iopub.status.idle": "2025-10-17T11:15:10.913365Z",
     "shell.execute_reply": "2025-10-17T11:15:10.912761Z",
     "shell.execute_reply.started": "2025-10-17T11:15:10.908163Z"
    }
   },
   "outputs": [
    {
     "data": {
      "text/plain": [
       "XrayEdge(energy=7112.0, fyield=0.350985, jump_ratio=7.893)"
      ]
     },
     "execution_count": 6,
     "metadata": {},
     "output_type": "execute_result"
    }
   ],
   "source": [
    "xraydb.xray_edge('Fe', 'K')"
   ]
  },
  {
   "cell_type": "markdown",
   "metadata": {},
   "source": [
    "From the jump ratio $r_K$ the jump ratio coefficient can be calculated using \n",
    "\n",
    "$$ J_K = \\frac{r_K -1}{r_K} \\tag{Thomsen eq. 4}$$"
   ]
  },
  {
   "cell_type": "code",
   "execution_count": 7,
   "metadata": {
    "execution": {
     "iopub.execute_input": "2025-10-17T11:15:13.345002Z",
     "iopub.status.busy": "2025-10-17T11:15:13.344753Z",
     "iopub.status.idle": "2025-10-17T11:15:13.349663Z",
     "shell.execute_reply": "2025-10-17T11:15:13.349091Z",
     "shell.execute_reply.started": "2025-10-17T11:15:13.344982Z"
    }
   },
   "outputs": [
    {
     "name": "stdout",
     "output_type": "stream",
     "text": [
      "Jump ratio coefficient: 0.873\n"
     ]
    }
   ],
   "source": [
    "r_K = xraydb.xray_edge('Fe', 'K').jump_ratio\n",
    "J_K = (r_K - 1) / r_K\n",
    "print(f'Jump ratio coefficient: {J_K:.03f}')"
   ]
  },
  {
   "cell_type": "markdown",
   "metadata": {},
   "source": [
    "Ok, our computed value corresponds quite well with the value 0.877 reported by Thomsen.  "
   ]
  },
  {
   "cell_type": "markdown",
   "metadata": {},
   "source": [
    "### Fluorescence yield $\\mathbf{\\omega_K}$\n",
    "\n"
   ]
  },
  {
   "cell_type": "markdown",
   "metadata": {},
   "source": [
    "Thomsen writes: *The last factor, the probability of $K$ radiation rather than the production of an Auger electron, is called the fluorescence yield* $\\omega_K$. The dependence of the fluorescence yield for a specific edges $K$ and $L$ as a function of the atomic number is depicted in figure 4. Let's reproduce these curves with `xraydb`. \n",
    "\n",
    "As a first step, we need a list of chemical elements for increasing atomic number **Z**. "
   ]
  },
  {
   "cell_type": "code",
   "execution_count": 8,
   "metadata": {
    "execution": {
     "iopub.execute_input": "2025-10-17T11:15:15.848326Z",
     "iopub.status.busy": "2025-10-17T11:15:15.848076Z",
     "iopub.status.idle": "2025-10-17T11:15:15.860237Z",
     "shell.execute_reply": "2025-10-17T11:15:15.859735Z",
     "shell.execute_reply.started": "2025-10-17T11:15:15.848306Z"
    }
   },
   "outputs": [
    {
     "name": "stdout",
     "output_type": "stream",
     "text": [
      "['H', 'He', 'Li', 'Be', 'B', 'C', 'N', 'O', 'F', 'Ne', 'Na', 'Mg', 'Al', 'Si', 'P', 'S', 'Cl', 'Ar', 'K', 'Ca', 'Sc', 'Ti', 'V', 'Cr', 'Mn', 'Fe', 'Co', 'Ni', 'Cu', 'Zn', 'Ga', 'Ge', 'As', 'Se', 'Br', 'Kr', 'Rb', 'Sr', 'Y', 'Zr', 'Nb', 'Mo', 'Tc', 'Ru', 'Rh', 'Pd', 'Ag', 'Cd', 'In', 'Sn', 'Sb', 'Te', 'I', 'Xe', 'Cs', 'Ba', 'La', 'Ce', 'Pr', 'Nd', 'Pm', 'Sm', 'Eu', 'Gd', 'Tb', 'Dy', 'Ho', 'Er', 'Tm', 'Yb', 'Lu', 'Hf', 'Ta', 'W', 'Re', 'Os', 'Ir', 'Pt', 'Au', 'Hg', 'Tl', 'Pb', 'Bi', 'Po', 'At', 'Rn', 'Fr', 'Ra', 'Ac', 'Th', 'Pa']\n"
     ]
    }
   ],
   "source": [
    "Z_list = list(range(1, 92))\n",
    "element_list = [xraydb.atomic_symbol(Z) for Z in Z_list]\n",
    "print(element_list)"
   ]
  },
  {
   "cell_type": "code",
   "execution_count": 9,
   "metadata": {
    "execution": {
     "iopub.execute_input": "2025-10-17T11:15:18.847385Z",
     "iopub.status.busy": "2025-10-17T11:15:18.847138Z",
     "iopub.status.idle": "2025-10-17T11:15:18.857807Z",
     "shell.execute_reply": "2025-10-17T11:15:18.857153Z",
     "shell.execute_reply.started": "2025-10-17T11:15:18.847365Z"
    }
   },
   "outputs": [],
   "source": [
    "Z_list_L = list(range(15, 92)) # Lighter elements do no have an L shell \n",
    "element_list_L = [xraydb.atomic_symbol(Z) for Z in Z_list_L] "
   ]
  },
  {
   "cell_type": "code",
   "execution_count": 10,
   "metadata": {
    "execution": {
     "iopub.execute_input": "2025-10-17T11:15:19.663659Z",
     "iopub.status.busy": "2025-10-17T11:15:19.663199Z",
     "iopub.status.idle": "2025-10-17T11:15:19.741003Z",
     "shell.execute_reply": "2025-10-17T11:15:19.740589Z",
     "shell.execute_reply.started": "2025-10-17T11:15:19.663630Z"
    }
   },
   "outputs": [],
   "source": [
    "fyield_K_list = [xraydb.xray_edge(e, 'K').fyield for e in element_list]\n",
    "fyield_L_list = [xraydb.xray_edge(e, 'L2').fyield for e in element_list_L]\n",
    "\n",
    "# for iron K the fluorescence yield is \n",
    "Z_Fe = 26 \n",
    "fyield_FeK = xraydb.xray_edge('Fe', 'K').fyield"
   ]
  },
  {
   "cell_type": "code",
   "execution_count": 11,
   "metadata": {
    "execution": {
     "iopub.execute_input": "2025-10-17T11:15:20.551510Z",
     "iopub.status.busy": "2025-10-17T11:15:20.551232Z",
     "iopub.status.idle": "2025-10-17T11:15:20.835385Z",
     "shell.execute_reply": "2025-10-17T11:15:20.834933Z",
     "shell.execute_reply.started": "2025-10-17T11:15:20.551487Z"
    }
   },
   "outputs": [],
   "source": [
    "import matplotlib.pyplot as plt "
   ]
  },
  {
   "cell_type": "code",
   "execution_count": 12,
   "metadata": {
    "execution": {
     "iopub.execute_input": "2025-10-17T11:15:21.704376Z",
     "iopub.status.busy": "2025-10-17T11:15:21.704034Z",
     "iopub.status.idle": "2025-10-17T11:15:21.888948Z",
     "shell.execute_reply": "2025-10-17T11:15:21.888385Z",
     "shell.execute_reply.started": "2025-10-17T11:15:21.704355Z"
    }
   },
   "outputs": [
    {
     "data": {
      "image/png": "[encoded data removed]",
      "text/plain": [
       "<Figure size 800x400 with 1 Axes>"
      ]
     },
     "metadata": {},
     "output_type": "display_data"
    }
   ],
   "source": [
    "fig, ax = plt.subplots(figsize=[8, 4]) \n",
    "\n",
    "ax.plot(Z_list, fyield_K_list, label=r'K edge $\\omega_K$')\n",
    "ax.plot(Z_list_L, fyield_L_list, label=r'L edge $\\omega_L$')\n",
    "ax.scatter(Z_Fe, fyield_FeK, color='r')\n",
    "ax.annotate(f'Fe ({fyield_FeK:.03f})', [Z_Fe+2, fyield_FeK])\n",
    "ax.set_xlabel('Atomic number')\n",
    "ax.set_ylabel('fluorescence yield')\n",
    "ax.grid()\n",
    "ax.legend();"
   ]
  },
  {
   "cell_type": "markdown",
   "metadata": {},
   "source": [
    "Ok, so we see that the computed fluorescence yield value 0.351 for the iron K edge $\\mathbf{\\omega_K}$ corresponds to the reported value by thomsen 0.347 pretty well. "
   ]
  },
  {
   "cell_type": "markdown",
   "metadata": {},
   "source": [
    "### Combining it all "
   ]
  },
  {
   "cell_type": "markdown",
   "metadata": {},
   "source": [
    "We now have all ingredients to compute a theoretical (excitation) x-ray fluorescence spectrum with the function `xrf_spectrum_xy()`. This function for each peak multiplies transition probability, jump ratio coefficient and fluorescence yield to obtain a theoretical excitation spectrum. Note that we do not yet take into account absorption effects or scattering effects. For comparison we plot this with the spectrum generated with my `moseley` package. "
   ]
  },
  {
   "cell_type": "code",
   "execution_count": 13,
   "metadata": {
    "execution": {
     "iopub.execute_input": "2025-10-17T11:33:15.247194Z",
     "iopub.status.busy": "2025-10-17T11:33:15.246829Z",
     "iopub.status.idle": "2025-10-17T11:33:15.250592Z",
     "shell.execute_reply": "2025-10-17T11:33:15.249992Z",
     "shell.execute_reply.started": "2025-10-17T11:33:15.247173Z"
    }
   },
   "outputs": [],
   "source": [
    "from moseley import ElementXRF "
   ]
  },
  {
   "cell_type": "code",
   "execution_count": 14,
   "metadata": {
    "execution": {
     "iopub.execute_input": "2025-10-17T11:43:31.725455Z",
     "iopub.status.busy": "2025-10-17T11:43:31.724750Z",
     "iopub.status.idle": "2025-10-17T11:43:31.747601Z",
     "shell.execute_reply": "2025-10-17T11:43:31.746865Z",
     "shell.execute_reply.started": "2025-10-17T11:43:31.725429Z"
    }
   },
   "outputs": [],
   "source": [
    "Fe_xrf = ElementXRF('Fe', excitation_energy_keV=22)"
   ]
  },
  {
   "cell_type": "code",
   "execution_count": 16,
   "metadata": {
    "execution": {
     "iopub.execute_input": "2025-10-17T11:44:31.769043Z",
     "iopub.status.busy": "2025-10-17T11:44:31.768787Z",
     "iopub.status.idle": "2025-10-17T11:44:31.771810Z",
     "shell.execute_reply": "2025-10-17T11:44:31.771306Z",
     "shell.execute_reply.started": "2025-10-17T11:44:31.769021Z"
    }
   },
   "outputs": [],
   "source": [
    "x, y = Fe_xrf.spectrum_xy"
   ]
  },
  {
   "cell_type": "code",
   "execution_count": null,
   "metadata": {},
   "outputs": [],
   "source": [
    "element = 'Fe' \n",
    "excitation_energy_keV = 21.1  \n",
    "x_keVs, y_spectrum = get_element_spectrum(element, excitation_energy_keV)"
   ]
  },
  {
   "cell_type": "code",
   "execution_count": null,
   "metadata": {},
   "outputs": [
    {
     "data": {
      "text/html": [
       "..<img src=\"./images/90_xphysics_d2bf724b9b.png\">"
      ]
     },
     "execution_count": null,
     "metadata": {},
     "output_type": "execute_result"
    }
   ],
   "source": [
    "fig, [ax0, ax1] = plt.subplots(nrows=2, figsize=[9, 6])\n",
    "ax0.plot(x, y)\n",
    "ax0.set_title(f'XrayDB Theoretical XRF spectrum for {element}')\n",
    "ax0.set_xlim([0, 22])\n",
    "ax1.set_xlim([0, 22])\n",
    "ax1.set_ylim([0, 1.3])\n",
    "ax0.grid()\n",
    "ax1.grid()\n",
    "ax1.set_title('Same spectrum generated with moseley/fisx')\n",
    "\n",
    "# for comparison plot spectrum with fisx based moseley function \n",
    "\n",
    "xf = moseley.XFluo(element, tube_keV=excitation_energy_keV)\n",
    "xf.plot(ax=ax1, peak_labels='full', color='red')\n",
    "plt.tight_layout()"
   ]
  },
  {
   "cell_type": "markdown",
   "metadata": {},
   "source": [
    "## FUNCTIONS "
   ]
  },
  {
   "cell_type": "code",
   "execution_count": null,
   "metadata": {},
   "outputs": [],
   "source": [
    "#|export \n",
    "\n",
    "import numpy as np \n",
    "import xraydb \n",
    "\n",
    "def gaussian_convolve(peak_energies, peak_intensities, x_keVs=None, std=0.01): \n",
    "    '''Convolves line spectrum defined by `peak_energies` and `peak_intensities` \n",
    "    \n",
    "    with a Gaussian peak shape. '''\n",
    "    \n",
    "    if x_keVs is None: \n",
    "        x_keVs = np.linspace(0, 40, 10000)\n",
    "\n",
    "    y_spectrum = np.zeros_like(x_keVs) \n",
    "\n",
    "    for peak_energy, peak_intensity in zip(peak_energies, peak_intensities): \n",
    "\n",
    "        y_spectrum += peak_intensity * np.exp(-(1 / std) * (x_keVs - peak_energy)**2)\n",
    "        \n",
    "    return x_keVs, y_spectrum \n",
    "\n",
    "\n",
    "class ElementLines(): \n",
    "    '''Computes fluorescence emission line energies and intensities for `element`.\n",
    "    \n",
    "    '''\n",
    "    \n",
    "    def __init__(self, element, excitation_energy_keV): \n",
    "\n",
    "        excitation_energy = 1000 * excitation_energy_keV\n",
    "\n",
    "        lines = xraydb.xray_lines(element, excitation_energy=excitation_energy) \n",
    "\n",
    "        peak_names = []\n",
    "        peak_labels = []\n",
    "        peak_energies = [] \n",
    "        peak_intensities = []\n",
    "\n",
    "        for name, line in lines.items(): \n",
    "\n",
    "            peak_names.append(name)\n",
    "\n",
    "            # intensities (a.k.a. transition probablities) sum up to unity within each level \n",
    "            energy, intensity, initial_level, final_level = line  \n",
    "            peak_energies.append(energy)\n",
    "            label = f'{element}_{initial_level}{final_level}' \n",
    "            peak_labels.append(label)\n",
    "\n",
    "            # get corresponding edge properties \n",
    "            edge = initial_level # IUPAC notation!  e.g. 'L1', not 'La'\n",
    "            edge_energy, fluo_yield, jump_ratio = xraydb.xray_edge(element, edge) \n",
    "            jump_coeff = (jump_ratio - 1) / jump_ratio # see Volker \n",
    "            #print(f'{name}: {energy}; jump_coeff: {jump_coeff:.03f}; fluo_yield: {fluo_yield}')\n",
    "\n",
    "            # multiplying edge jump coefficient, intensity and fluorescence yield... \n",
    "            peak_intensity = jump_coeff * intensity * fluo_yield \n",
    "            peak_intensities.append(peak_intensity) \n",
    "        \n",
    "        # determine sorting according to peak_intensities... \n",
    "        self.peak_intensities = np.array(peak_intensities)\n",
    "        indices = np.argsort(self.peak_intensities)[::-1] \n",
    "\n",
    "        # sort \n",
    "        self.peak_intensities = self.peak_intensities[indices]\n",
    "        self.peak_energies = np.array(peak_energies)[indices] / 1000\n",
    "        self.peak_names = np.array(peak_names)[indices]\n",
    "        self.peak_labels = np.array(peak_labels)[indices]\n",
    "\n",
    "        \n",
    "def get_element_spectrum(element, excitation_energy_keV, normalize=True, x_keVs=None, std=0.01): \n",
    "    '''Compute simple excitation spectrum (no matrix effects). \n",
    "    \n",
    "    Based on xraydb. \n",
    "    \n",
    "    Returns: y_spectrum'''\n",
    "    \n",
    "    el = ElementLines(element, excitation_energy_keV)  \n",
    "    \n",
    "    x, y_spectrum = gaussian_convolve(el.peak_energies, el.peak_intensities, x_keVs=x_keVs, std=std)\n",
    "    \n",
    "    if normalize: \n",
    "        y_spectrum = y_spectrum / y_spectrum.max()\n",
    "        \n",
    "    if x_keVs is None: \n",
    "    \n",
    "        return x, y_spectrum \n",
    "    \n",
    "    else: \n",
    "        return y_spectrum \n",
    "\n",
    "    \n",
    "def get_element_spectra(elements, x_keVs, excitation_energy_keV): \n",
    "    '''Compute theoretical emission spectrum for multiple elements. \n",
    "    \n",
    "    Sorts elements according to largest (alpha) peak. Based on xraydb. \n",
    "    \n",
    "    Returns: elements, element_spectra\n",
    "    '''\n",
    "\n",
    "    n_channels = len(x_keVs)\n",
    "    n_elements = len(elements)\n",
    "\n",
    "    element_spectra = np.zeros([n_elements, n_channels]) \n",
    "\n",
    "    for i, elem in enumerate(elements): \n",
    "        element_spectra[i] = get_element_spectrum(elem, excitation_energy_keV, x_keVs=x_keVs)\n",
    "\n",
    "        # normalize\n",
    "        element_spectra[i] = element_spectra[i] / element_spectra[i].max()\n",
    "\n",
    "\n",
    "    # sort according to energy of largest (=alpha) peak\n",
    "    alpha_idxs = np.argmax(element_spectra, axis=1)\n",
    "    alpha_order = np.argsort(alpha_idxs) \n",
    "\n",
    "    elements = [elements[i] for i in alpha_order]\n",
    "    element_spectra = element_spectra[alpha_order]\n",
    "    \n",
    "    return elements, element_spectra \n"
   ]
  },
  {
   "cell_type": "markdown",
   "metadata": {},
   "source": [
    "# More ideas "
   ]
  },
  {
   "cell_type": "markdown",
   "metadata": {},
   "source": [
    "## Absorption and scattering "
   ]
  },
  {
   "cell_type": "markdown",
   "metadata": {},
   "source": [
    "The xraydb documentation gives an example calculation for different mass attenuation cross sections."
   ]
  },
  {
   "cell_type": "code",
   "execution_count": null,
   "metadata": {},
   "outputs": [],
   "source": [
    "import numpy as np\n",
    "import matplotlib.pyplot as plt\n",
    "from xraydb import mu_elam "
   ]
  },
  {
   "cell_type": "code",
   "execution_count": null,
   "metadata": {},
   "outputs": [
    {
     "data": {
      "text/html": [
       "..<img src=\"./images/90_xphysics_ae0c8c48fa.png\">"
      ]
     },
     "execution_count": null,
     "metadata": {},
     "output_type": "execute_result"
    }
   ],
   "source": [
    "energy = np.arange(500, 25000, 10)  # energy in eV\n",
    "energy_keV = energy / 1000 \n",
    "\n",
    "\n",
    "fig, axs = plt.subplots(nrows=2, ncols=2, figsize=[9, 7], sharex=True, sharey=True) \n",
    "axs = axs.flatten()\n",
    "\n",
    "elements = ['C', 'Ca', 'Fe', 'Pb']\n",
    "\n",
    "for i, elem in enumerate(elements):       \n",
    "\n",
    "    mu_total = mu_elam(elem, energy, kind='total')\n",
    "    mu_photo = mu_elam(elem, energy, kind='photo')\n",
    "    mu_incoh = mu_elam(elem, energy, kind='incoh')\n",
    "    mu_coher = mu_elam(elem, energy, kind='coh')\n",
    "\n",
    "\n",
    "    ax = axs[i]\n",
    "\n",
    "    ax.set_title(f'X-ray mass attenuation for {elem}')\n",
    "    ax.plot(energy_keV, mu_total, linewidth=2, label='Total', alpha=0.5)\n",
    "    ax.plot(energy_keV, mu_photo, linewidth=2, label='Photo-electric', alpha=0.5)\n",
    "    ax.plot(energy_keV, mu_incoh, linewidth=2, label='Incoherent', alpha=0.5)\n",
    "    ax.plot(energy_keV, mu_coher, linewidth=2, label='Coherent', alpha=0.5)\n",
    "\n",
    "    ax.set_xlabel('Energy (keV)')\n",
    "    ax.set_ylabel(r'$\\mu/\\rho \\rm\\, (cm^2/gr)$')\n",
    "    #ax.legend()\n",
    "    ax.set_yscale('log')\n",
    "    \n",
    "axs[0].legend();"
   ]
  },
  {
   "cell_type": "markdown",
   "metadata": {},
   "source": [
    "I would like to see how scattering depends on atomic number $Z$."
   ]
  },
  {
   "cell_type": "code",
   "execution_count": null,
   "metadata": {},
   "outputs": [
    {
     "name": "stdout",
     "output_type": "stream",
     "text": [
      "['H', 'He', 'Li', 'Be', 'B', 'C', 'N', 'O', 'F', 'Ne', 'Na', 'Mg', 'Al', 'Si', 'P', 'S', 'Cl', 'Ar', 'K', 'Ca', 'Sc', 'Ti', 'V', 'Cr', 'Mn', 'Fe', 'Co', 'Ni', 'Cu', 'Zn', 'Ga', 'Ge', 'As', 'Se', 'Br', 'Kr', 'Rb', 'Sr', 'Y', 'Zr', 'Nb', 'Mo', 'Tc', 'Ru', 'Rh', 'Pd', 'Ag', 'Cd', 'In', 'Sn', 'Sb', 'Te', 'I', 'Xe', 'Cs', 'Ba', 'La', 'Ce', 'Pr', 'Nd', 'Pm', 'Sm', 'Eu', 'Gd', 'Tb', 'Dy', 'Ho', 'Er', 'Tm', 'Yb', 'Lu', 'Hf', 'Ta', 'W', 'Re', 'Os', 'Ir', 'Pt', 'Au', 'Hg', 'Tl', 'Pb']\n"
     ]
    }
   ],
   "source": [
    "Z0 = xraydb.atomic_number('H')\n",
    "Z1 = xraydb.atomic_number('Pb') + 1\n",
    "element_list = [xraydb.atomic_symbol(Z) for Z in range(Z0, Z1)]\n",
    "print(element_list)"
   ]
  },
  {
   "cell_type": "code",
   "execution_count": null,
   "metadata": {},
   "outputs": [
    {
     "name": "stdout",
     "output_type": "stream",
     "text": [
      "['H', 'He', 'Li', 'Be', 'B', 'C', 'N', 'O', 'F', 'Ne', 'Na', 'Mg', 'Al', 'Si', 'P', 'S', 'Cl', 'Ar', 'K', 'Ca', 'Sc', 'Ti', 'V', 'Cr', 'Mn', 'Fe', 'Co', 'Ni', 'Cu', 'Zn', 'Ga', 'Ge', 'As', 'Se', 'Br', 'Kr', 'Rb', 'Sr', 'Y', 'Zr', 'Nb', 'Mo', 'Tc', 'Ru', 'Rh', 'Pd', 'Ag', 'Cd', 'In', 'Sn', 'Sb', 'Te', 'I', 'Xe', 'Cs', 'Ba', 'La', 'Ce', 'Pr', 'Nd', 'Pm', 'Sm', 'Eu', 'Gd', 'Tb', 'Dy', 'Ho', 'Er', 'Tm', 'Yb', 'Lu', 'Hf', 'Ta', 'W', 'Re', 'Os', 'Ir', 'Pt', 'Au', 'Hg', 'Tl', 'Pb']\n"
     ]
    }
   ],
   "source": [
    "energy = np.arange(500, 25000, 10)  # energy in eV\n",
    "energy_keV = energy / 1000  \n",
    "\n",
    "elements = element_list\n",
    "\n",
    "print(elements)"
   ]
  },
  {
   "cell_type": "code",
   "execution_count": null,
   "metadata": {},
   "outputs": [],
   "source": [
    "mu_incoh_list = []\n",
    "mu_coh_list = []\n",
    "mu_photo_list = []\n",
    "\n",
    "for elem in elements: \n",
    "    \n",
    "    mu_incoh = xraydb.mu_elam(elem, energy, kind='incoh')\n",
    "    mu_incoh_list.append(mu_incoh)\n",
    "    \n",
    "    mu_coh = xraydb.mu_elam(elem, energy, kind='coh')\n",
    "    mu_coh_list.append(mu_coh)\n",
    "    \n",
    "    mu_photo = xraydb.mu_elam(elem, energy, kind='photo')\n",
    "    mu_photo_list.append(mu_photo)\n",
    "\n",
    "\n",
    "K = np.array(mu_photo_list)\n",
    "S = np.array(mu_coh_list) + np.array(mu_incoh_list) # ignore Compton shift "
   ]
  },
  {
   "cell_type": "code",
   "execution_count": null,
   "metadata": {},
   "outputs": [],
   "source": [
    "cmap = plt.get_cmap('viridis_r')\n",
    "gradient = np.linspace(0, 1, len(elements))\n",
    "colors = cmap(gradient)"
   ]
  },
  {
   "cell_type": "code",
   "execution_count": null,
   "metadata": {},
   "outputs": [
    {
     "data": {
      "text/html": [
       "..<img src=\"./images/90_xphysics_7d797db205.png\">"
      ]
     },
     "execution_count": null,
     "metadata": {},
     "output_type": "execute_result"
    }
   ],
   "source": [
    "fig, [ax0, ax1, ax2] = plt.subplots(ncols=3, sharex=True, sharey=True, figsize=[9, 4])\n",
    "\n",
    "for i, mu in enumerate(mu_incoh_list): \n",
    "    ax0.plot(energy_keV, mu, label=elements[i], color=colors[i]) \n",
    "    ax0.set_xlabel('energy (keV)')\n",
    "    \n",
    "for i, mu in enumerate(mu_coh_list): \n",
    "    ax1.plot(energy_keV, mu, label=elements[i], color=colors[i])\n",
    "    ax1.set_xlabel('energy (keV)')\n",
    "    \n",
    "for i, mu in enumerate(mu_photo_list): \n",
    "    ax2.plot(energy_keV, mu, label=elements[i], color=colors[i])\n",
    "    ax2.set_xlabel('energy (keV)')\n",
    "\n",
    "ax0.set_title('incoh')    \n",
    "ax1.set_title('coh')    \n",
    "ax2.set_title('photo')  \n",
    "\n",
    "logscale = True \n",
    "if logscale == True:\n",
    "    ax0.set_yscale('log')\n",
    "    ax1.set_yscale('log')\n",
    "    ax2.set_yscale('log')\n",
    "#ax.legend()"
   ]
  },
  {
   "cell_type": "markdown",
   "metadata": {},
   "source": [
    "The question now is if we can explain the lead shadow regions in some of light element peak maps. This problem is essentially combining the effects of scattering and absorption of a translucent layer. To calculate reflectance and transmission properties of such a system we can use the results of Kubelka-Munk theory. \n",
    "\n",
    "Given the relatively small energy shift due to inelastic (incoherent) scattering, we can simplify the problem by summing elastic (coherent) and inelastic (incoherent) scattering into a single scattering coefficient $S$. "
   ]
  },
  {
   "cell_type": "code",
   "execution_count": null,
   "metadata": {},
   "outputs": [],
   "source": [
    "def R_inf(K, S): \n",
    "    '''Infinite reflectance from `K` and `S`.\n",
    "    \n",
    "    Calculation with modified Saunderson equation. '''\n",
    "     \n",
    "    Rinf =  (S/K) / ((S/K) + 1 + np.sqrt(1 + 2 * (S/K))) \n",
    "    \n",
    "    return Rinf "
   ]
  },
  {
   "cell_type": "code",
   "execution_count": null,
   "metadata": {},
   "outputs": [],
   "source": [
    "Rinf = R_inf(K, S)"
   ]
  },
  {
   "cell_type": "code",
   "execution_count": null,
   "metadata": {},
   "outputs": [
    {
     "data": {
      "text/plain": [
       "(82, 2450)"
      ]
     },
     "execution_count": null,
     "metadata": {},
     "output_type": "execute_result"
    }
   ],
   "source": [
    "Rinf.shape"
   ]
  },
  {
   "cell_type": "code",
   "execution_count": null,
   "metadata": {},
   "outputs": [
    {
     "data": {
      "text/html": [
       "..<img src=\"./images/90_xphysics_33e84b0c02.png\">"
      ]
     },
     "execution_count": null,
     "metadata": {},
     "output_type": "execute_result"
    }
   ],
   "source": [
    "fig, ax = plt.subplots()\n",
    "\n",
    "extent = [energy_keV.min(), energy_keV.max(), Z0, Z1]\n",
    "\n",
    "im = ax.imshow(Rinf, interpolation='none', origin='lower', aspect=0.3, extent=extent, cmap='Greys_r')\n",
    "\n",
    "fig.colorbar(im, ax=ax)\n",
    "\n",
    "ax.set_title(r'Pure element infinite reflectance $R_{\\infty}$')\n",
    "ax.set_xlabel('Energy (keV)')\n",
    "ax.set_ylabel('Atomic number (Z)'); \n",
    "#ax.set_ylim([0, 20])"
   ]
  },
  {
   "cell_type": "markdown",
   "metadata": {},
   "source": [
    "What we learn here is that the Compton ridge is essentially only due to the abundance of hydrogen in the paper. The scattering of carbon and oxygen can safely be neglected. \n",
    "\n",
    "Next step is the calculation of the transmission of a typical ( $200 ~ g/m^2$) paper... "
   ]
  },
  {
   "cell_type": "code",
   "execution_count": null,
   "metadata": {},
   "outputs": [],
   "source": [
    "mu_paper = xraydb.material_mu('C6H12O6', energy, 0.5)\n",
    "mu_lead = xraydb.material_mu('PbCO3', energy, 20)\n",
    "mu_iron = xraydb.material_mu('Fe', energy, 10)"
   ]
  },
  {
   "cell_type": "code",
   "execution_count": null,
   "metadata": {},
   "outputs": [],
   "source": [
    "d_paper = 0.5 # mm \n",
    "d_lead = 0.001 # mm \n",
    "d_iron = 0.001 # mm \n",
    "\n",
    "T_paper = np.exp(-d_paper * mu_paper)\n",
    "T_lead = np.exp(-d_lead * mu_lead)\n",
    "T_iron = np.exp(-d_iron * mu_iron)"
   ]
  },
  {
   "cell_type": "code",
   "execution_count": null,
   "metadata": {},
   "outputs": [
    {
     "data": {
      "text/html": [
       "..<img src=\"./images/90_xphysics_fdf7ac1bbf.png\">"
      ]
     },
     "execution_count": null,
     "metadata": {},
     "output_type": "execute_result"
    }
   ],
   "source": [
    "fig, ax = plt.subplots(figsize=[9, 4])\n",
    "\n",
    "ax.plot(energy_keV, T_paper, label=f'{d_paper}mm paper')\n",
    "ax.plot(energy_keV, T_lead, label=f'{d_lead}mm lead')\n",
    "ax.plot(energy_keV, T_iron, label=f'{d_iron}mm iron')\n",
    "ax.set_title('Transmission')\n",
    "ax.set_xlabel('energy (keV)')\n",
    "ax.set_ylabel('transmission')\n",
    "ax.legend();"
   ]
  },
  {
   "cell_type": "markdown",
   "metadata": {},
   "source": [
    "So, the one million dollar question now is: what is the expected reflectance of the sandwich? "
   ]
  }
 ],
 "metadata": {
  "kernelspec": {
   "display_name": "Python 3 (ipykernel)",
   "language": "python",
   "name": "python3"
  },
  "language_info": {
   "codemirror_mode": {
    "name": "ipython",
    "version": 3
   },
   "file_extension": ".py",
   "mimetype": "text/x-python",
   "name": "python",
   "nbconvert_exporter": "python",
   "pygments_lexer": "ipython3",
   "version": "3.12.9"
  }
 },
 "nbformat": 4,
 "nbformat_minor": 4
}
