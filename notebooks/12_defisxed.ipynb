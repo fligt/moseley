{
 "cells": [
  {
   "cell_type": "markdown",
   "id": "5ce742d1-3701-408f-891e-a71062c33d85",
   "metadata": {},
   "source": [
    "# Now based on xraydb "
   ]
  },
  {
   "cell_type": "markdown",
   "id": "b461fe38-a176-4538-902d-8ecd11d49e8e",
   "metadata": {},
   "source": [
    "## FUNCTIONS "
   ]
  },
  {
   "cell_type": "code",
   "execution_count": null,
   "id": "4fe6cce9-0a79-4dbf-9fe7-9b1ccce0fbba",
   "metadata": {},
   "outputs": [],
   "source": [
    "import numpy as np \n",
    "import xraydb \n",
    "\n",
    "def gaussian_convolve(peak_energies, peak_intensities, x_keVs=None, std=0.01): \n",
    "    '''Convolves line spectrum defined by `peak_energies` and `peak_intensities` \n",
    "    \n",
    "    with a Gaussian peak shape. '''\n",
    "    \n",
    "    if x_keVs is None: \n",
    "        x_keVs = np.linspace(0, 40, 10000)\n",
    "\n",
    "    y_spectrum = np.zeros_like(x_keVs) \n",
    "\n",
    "    for peak_energy, peak_intensity in zip(peak_energies, peak_intensities): \n",
    "\n",
    "        y_spectrum += peak_intensity * np.exp(-(1 / std) * (x_keVs - peak_energy)**2)\n",
    "        \n",
    "    return x_keVs, y_spectrum \n",
    "\n",
    "\n",
    "class ElementLines(): \n",
    "    '''Computes fluorescence emission line energies and intensities for `element`.\n",
    "    \n",
    "    '''\n",
    "    \n",
    "    def __init__(self, element, excitation_energy_keV): \n",
    "\n",
    "        excitation_energy = 1000 * excitation_energy_keV\n",
    "\n",
    "        lines = xraydb.xray_lines(element, excitation_energy=excitation_energy) \n",
    "\n",
    "        peak_names = []\n",
    "        peak_labels = []\n",
    "        peak_energies = [] \n",
    "        peak_intensities = []\n",
    "\n",
    "        for name, line in lines.items(): \n",
    "\n",
    "            peak_names.append(name)\n",
    "\n",
    "            # intensities (a.k.a. transition probablities) sum up to unity within each level \n",
    "            energy, intensity, initial_level, final_level = line  \n",
    "            peak_energies.append(energy)\n",
    "            label = f'{element}_{initial_level}{final_level}' \n",
    "            peak_labels.append(label)\n",
    "\n",
    "            # get corresponding edge properties \n",
    "            edge = initial_level # IUPAC notation!  e.g. 'L1', not 'La'\n",
    "            edge_energy, fluo_yield, jump_ratio = xraydb.xray_edge(element, edge) \n",
    "            jump_coeff = (jump_ratio - 1) / jump_ratio # see Volker \n",
    "            #print(f'{name}: {energy}; jump_coeff: {jump_coeff:.03f}; fluo_yield: {fluo_yield}')\n",
    "\n",
    "            # multiplying edge jump coefficient, intensity and fluorescence yield... \n",
    "            peak_intensity = jump_coeff * intensity * fluo_yield \n",
    "            peak_intensities.append(peak_intensity) \n",
    "        \n",
    "        # determine sorting according to peak_intensities... \n",
    "        self.peak_intensities = np.array(peak_intensities)\n",
    "        indices = np.argsort(self.peak_intensities)[::-1] \n",
    "\n",
    "        # sort \n",
    "        self.peak_intensities = self.peak_intensities[indices]\n",
    "        self.peak_energies = np.array(peak_energies)[indices] / 1000\n",
    "        self.peak_names = np.array(peak_names)[indices]\n",
    "        self.peak_labels = np.array(peak_labels)[indices]\n",
    "\n",
    "        \n",
    "def get_element_spectrum(element, excitation_energy_keV, normalize=True, x_keVs=None, std=0.01): \n",
    "    '''Compute simple excitation spectrum (no matrix effects). \n",
    "    \n",
    "    Based on xraydb. \n",
    "    \n",
    "    Returns: y_spectrum'''\n",
    "    \n",
    "    el = ElementLines(element, excitation_energy_keV)  \n",
    "    \n",
    "    x, y_spectrum = gaussian_convolve(el.peak_energies, el.peak_intensities, x_keVs=x_keVs, std=std)\n",
    "    \n",
    "    if normalize: \n",
    "        y_spectrum = y_spectrum / y_spectrum.max()\n",
    "        \n",
    "    if x_keVs is None: \n",
    "    \n",
    "        return x, y_spectrum \n",
    "    \n",
    "    else: \n",
    "        return y_spectrum \n",
    "\n",
    "    \n",
    "def get_element_spectra(elements, x_keVs, excitation_energy_keV): \n",
    "    '''Compute theoretical emission spectrum for multiple elements. \n",
    "    \n",
    "    Sorts elements according to largest (alpha) peak. Based on xraydb. \n",
    "    \n",
    "    Returns: elements, element_spectra\n",
    "    '''\n",
    "\n",
    "    n_channels = len(x_keVs)\n",
    "    n_elements = len(elements)\n",
    "\n",
    "    element_spectra = np.zeros([n_elements, n_channels]) \n",
    "\n",
    "    for i, elem in enumerate(elements): \n",
    "        element_spectra[i] = get_element_spectrum(elem, excitation_energy_keV, x_keVs=x_keVs)\n",
    "\n",
    "        # normalize\n",
    "        element_spectra[i] = element_spectra[i] / element_spectra[i].max()\n",
    "\n",
    "\n",
    "    # sort according to energy of largest (=alpha) peak\n",
    "    alpha_idxs = np.argmax(element_spectra, axis=1)\n",
    "    alpha_order = np.argsort(alpha_idxs) \n",
    "\n",
    "    elements = [elements[i] for i in alpha_order]\n",
    "    element_spectra = element_spectra[alpha_order]\n",
    "    \n",
    "    return elements, element_spectra \n"
   ]
  },
  {
   "cell_type": "markdown",
   "id": "7c2051c4-d36f-408c-830e-85eb7ffcdd2d",
   "metadata": {},
   "source": [
    "## Comparing moseley and xraydb based spectra...   "
   ]
  },
  {
   "cell_type": "markdown",
   "id": "cc45ba60-a2db-4384-a5f8-f7f91388b7b4",
   "metadata": {},
   "source": [
    "**Absorption Jump Ratio** \n",
    "\n",
    "Thomsen states that \"The first factor, the **probability** that a K-shell electron will be ejected rather than an L- or M-shell electron, is given by\n",
    "what is called the K-shell “absorption jump ratio” ($J_K$)\":"
   ]
  },
  {
   "cell_type": "markdown",
   "id": "9ca77ba4-8326-4682-8e89-1d4e7c809b2c",
   "metadata": {},
   "source": [
    "$$ J_K = (r_K - 1) / r_K $$"
   ]
  },
  {
   "cell_type": "markdown",
   "id": "b99d3680-8242-4589-a534-baa090171854",
   "metadata": {},
   "source": [
    "I would think that we should be able to show that these jump probabilities should add up to unity! Let's see..."
   ]
  },
  {
   "cell_type": "code",
   "execution_count": 12,
   "id": "81d12a76-db03-43e2-aeaf-619c517f730e",
   "metadata": {
    "execution": {
     "iopub.execute_input": "2025-10-09T11:26:17.688259Z",
     "iopub.status.busy": "2025-10-09T11:26:17.687652Z",
     "iopub.status.idle": "2025-10-09T11:26:17.690991Z",
     "shell.execute_reply": "2025-10-09T11:26:17.690431Z",
     "shell.execute_reply.started": "2025-10-09T11:26:17.688237Z"
    }
   },
   "outputs": [],
   "source": [
    "import moseley as mos \n",
    "import matplotlib.pyplot as plt\n",
    "from maxrf4u import get_element_spectrum\n",
    "import xraydb "
   ]
  },
  {
   "cell_type": "code",
   "execution_count": 2,
   "id": "69bb63a7-6511-4180-84bb-289c95594c2a",
   "metadata": {
    "execution": {
     "iopub.execute_input": "2025-10-09T07:49:38.829540Z",
     "iopub.status.busy": "2025-10-09T07:49:38.829295Z",
     "iopub.status.idle": "2025-10-09T07:49:38.849477Z",
     "shell.execute_reply": "2025-10-09T07:49:38.848994Z",
     "shell.execute_reply.started": "2025-10-09T07:49:38.829528Z"
    }
   },
   "outputs": [],
   "source": [
    "%matplotlib widget"
   ]
  },
  {
   "cell_type": "code",
   "execution_count": 18,
   "id": "3348ce2c-8461-4145-8d9c-3c7cf8632a25",
   "metadata": {
    "execution": {
     "iopub.execute_input": "2025-10-09T11:29:41.842930Z",
     "iopub.status.busy": "2025-10-09T11:29:41.842335Z",
     "iopub.status.idle": "2025-10-09T11:29:42.226026Z",
     "shell.execute_reply": "2025-10-09T11:29:42.225631Z",
     "shell.execute_reply.started": "2025-10-09T11:29:41.842895Z"
    }
   },
   "outputs": [],
   "source": [
    "Pb_xrf = mos.XFluo('Pb', 30)\n",
    "x, y = get_element_spectrum('Pb', 30)"
   ]
  },
  {
   "cell_type": "code",
   "execution_count": 24,
   "id": "c7fa9fc2-ba24-4221-a632-32cc4aea13b7",
   "metadata": {
    "execution": {
     "iopub.execute_input": "2025-10-09T11:33:41.406693Z",
     "iopub.status.busy": "2025-10-09T11:33:41.406239Z",
     "iopub.status.idle": "2025-10-09T11:33:41.690935Z",
     "shell.execute_reply": "2025-10-09T11:33:41.690253Z",
     "shell.execute_reply.started": "2025-10-09T11:33:41.406667Z"
    }
   },
   "outputs": [
    {
     "data": {
      "text/plain": [
       "[<matplotlib.lines.Line2D at 0x7cd8c64dac00>]"
      ]
     },
     "execution_count": 24,
     "metadata": {},
     "output_type": "execute_result"
    },
    {
     "data": {
      "application/vnd.jupyter.widget-view+json": {
       "model_id": "a7bd8067665242c09c60363d9df6830f",
       "version_major": 2,
       "version_minor": 0
      },
      "image/png": "[encoded data removed]",
      "text/html": [
       "\n",
       "            <div style=\"display: inline-block;\">\n",
       "                <div class=\"jupyter-widgets widget-label\" style=\"text-align: center;\">\n",
       "                    Figure\n",
       "                </div>\n",
       "                <img src='data:image/png;base64,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' width=1500.0/>\n",
       "            </div>\n",
       "        "
      ],
      "text/plain": [
       "Canvas(toolbar=Toolbar(toolitems=[('Home', 'Reset original view', 'home', 'home'), ('Back', 'Back to previous …"
      ]
     },
     "metadata": {},
     "output_type": "display_data"
    }
   ],
   "source": [
    "fig, ax = plt.subplots(figsize=[15, 5])\n",
    "\n",
    "Pb_xrf.plot(ax=ax, peak_labels='none')\n",
    "ax.plot(x, y)"
   ]
  },
  {
   "cell_type": "code",
   "execution_count": 4,
   "id": "86d54402-f6d1-4b83-8fa9-d6ffc065ab85",
   "metadata": {
    "execution": {
     "iopub.execute_input": "2025-10-09T07:49:44.351666Z",
     "iopub.status.busy": "2025-10-09T07:49:44.351374Z",
     "iopub.status.idle": "2025-10-09T07:49:44.661111Z",
     "shell.execute_reply": "2025-10-09T07:49:44.660714Z",
     "shell.execute_reply.started": "2025-10-09T07:49:44.351644Z"
    }
   },
   "outputs": [],
   "source": [
    "Pb_xrf.plot(ax=ax, peak_labels='full')"
   ]
  },
  {
   "cell_type": "code",
   "execution_count": 23,
   "id": "98066813-e5a8-4759-8485-d4b0c8969737",
   "metadata": {
    "execution": {
     "iopub.execute_input": "2025-10-09T11:31:15.452464Z",
     "iopub.status.busy": "2025-10-09T11:31:15.452214Z",
     "iopub.status.idle": "2025-10-09T11:31:15.459447Z",
     "shell.execute_reply": "2025-10-09T11:31:15.458927Z",
     "shell.execute_reply.started": "2025-10-09T11:31:15.452443Z"
    }
   },
   "outputs": [
    {
     "data": {
      "text/plain": [
       "<StemContainer object of 3 artists>"
      ]
     },
     "execution_count": 23,
     "metadata": {},
     "output_type": "execute_result"
    }
   ],
   "source": [
    "ax.stem(energies, intensities)"
   ]
  },
  {
   "cell_type": "code",
   "execution_count": 13,
   "id": "9208a0a2-2830-4969-b9e0-69c95852cb09",
   "metadata": {
    "execution": {
     "iopub.execute_input": "2025-10-09T11:26:21.850879Z",
     "iopub.status.busy": "2025-10-09T11:26:21.850626Z",
     "iopub.status.idle": "2025-10-09T11:26:21.857438Z",
     "shell.execute_reply": "2025-10-09T11:26:21.857051Z",
     "shell.execute_reply.started": "2025-10-09T11:26:21.850859Z"
    }
   },
   "outputs": [
    {
     "data": {
      "text/plain": [
       "{'Lb4': XrayLine(energy=12307.0, intensity=0.338604, initial_level='L1', final_level='M2'),\n",
       " 'Lb3': XrayLine(energy=12795.0, intensity=0.401364, initial_level='L1', final_level='M3'),\n",
       " 'Lg2': XrayLine(energy=15099.1, intensity=0.114773, initial_level='L1', final_level='N2'),\n",
       " 'Lg3': XrayLine(energy=15217.5, intensity=0.145259, initial_level='L1', final_level='N3'),\n",
       " 'Ln': XrayLine(energy=11349.0, intensity=0.0181159, initial_level='L2', final_level='M1'),\n",
       " 'Lb1': XrayLine(energy=12614.0, intensity=0.787801, initial_level='L2', final_level='M4'),\n",
       " 'Lg1': XrayLine(energy=14765.7, intensity=0.165149, initial_level='L2', final_level='N4'),\n",
       " 'Lg6': XrayLine(energy=15179.3, intensity=0.0289336, initial_level='L2', final_level='O4'),\n",
       " 'Ll': XrayLine(energy=9184.0, intensity=0.0379508, initial_level='L3', final_level='M1'),\n",
       " 'La2': XrayLine(energy=10449.0, intensity=0.0763391, initial_level='L3', final_level='M4'),\n",
       " 'La1': XrayLine(energy=10551.0, intensity=0.683544, initial_level='L3', final_level='M5'),\n",
       " 'Lb6': XrayLine(energy=12143.2, intensity=0.0106552, initial_level='L3', final_level='N1'),\n",
       " 'Lb2,15': XrayLine(energy=12600.7, intensity=0.169784, initial_level='L3', final_level='N4,5'),\n",
       " 'Lb5': XrayLine(energy=13014.3, intensity=0.0217267, initial_level='L3', final_level='O4,5'),\n",
       " 'Mg': XrayLine(energy=2653.8, intensity=1.0, initial_level='M3', final_level='N5'),\n",
       " 'Mb': XrayLine(energy=2444.3, intensity=0.997068, initial_level='M4', final_level='N6'),\n",
       " 'Ma': XrayLine(energy=2342.3, intensity=1.0, initial_level='M5', final_level='N6,7')}"
      ]
     },
     "execution_count": 13,
     "metadata": {},
     "output_type": "execute_result"
    }
   ],
   "source": [
    "lines = xraydb.xray_lines('Pb', excitation_energy=30000)\n",
    "lines"
   ]
  },
  {
   "cell_type": "code",
   "execution_count": 70,
   "id": "323bcf17-c056-49a0-8245-bc251aa6245c",
   "metadata": {
    "execution": {
     "iopub.execute_input": "2025-10-08T15:30:23.100516Z",
     "iopub.status.busy": "2025-10-08T15:30:23.100261Z",
     "iopub.status.idle": "2025-10-08T15:30:23.105262Z",
     "shell.execute_reply": "2025-10-08T15:30:23.104569Z",
     "shell.execute_reply.started": "2025-10-08T15:30:23.100496Z"
    }
   },
   "outputs": [
    {
     "data": {
      "text/plain": [
       "['Lb4',\n",
       " 'Lb3',\n",
       " 'Lg2',\n",
       " 'Lg3',\n",
       " 'Ln',\n",
       " 'Lb1',\n",
       " 'Lg1',\n",
       " 'Lg6',\n",
       " 'Ll',\n",
       " 'La2',\n",
       " 'La1',\n",
       " 'Lb6',\n",
       " 'Lb2,15',\n",
       " 'Lb5',\n",
       " 'Mg',\n",
       " 'Mb',\n",
       " 'Ma']"
      ]
     },
     "execution_count": 70,
     "metadata": {},
     "output_type": "execute_result"
    }
   ],
   "source": [
    "names = list(lines.keys())\n",
    "names"
   ]
  },
  {
   "cell_type": "code",
   "execution_count": 17,
   "id": "20bb410c-c786-4fa4-aea7-575c88539fc7",
   "metadata": {
    "execution": {
     "iopub.execute_input": "2025-10-09T11:29:34.275376Z",
     "iopub.status.busy": "2025-10-09T11:29:34.275119Z",
     "iopub.status.idle": "2025-10-09T11:29:34.281407Z",
     "shell.execute_reply": "2025-10-09T11:29:34.280937Z",
     "shell.execute_reply.started": "2025-10-09T11:29:34.275355Z"
    }
   },
   "outputs": [],
   "source": [
    "element = 'Pb'\n",
    "excitation_energy = 30000\n",
    "lines = xraydb.xray_lines(element, excitation_energy=excitation_energy)\n",
    "names = list(lines.keys())\n",
    "intensities = [lines[n].intensity for n in  names]\n",
    "energies = [0.001 * lines[n].energy for n in  names]\n",
    "initial_levels = [lines[n].initial_level for n in  names]\n",
    "final_levels = [lines[n].final_level for n in  names]\n"
   ]
  },
  {
   "cell_type": "markdown",
   "id": "69a783e8-e5e5-4589-b5eb-b07f3af36e75",
   "metadata": {},
   "source": [
    "We see here that the intensities for Pb sum up to 6! "
   ]
  },
  {
   "cell_type": "code",
   "execution_count": 73,
   "id": "1a4dd67f-74ea-4f29-bc68-395ffee5b170",
   "metadata": {
    "execution": {
     "iopub.execute_input": "2025-10-08T15:32:35.429762Z",
     "iopub.status.busy": "2025-10-08T15:32:35.429514Z",
     "iopub.status.idle": "2025-10-08T15:32:35.433823Z",
     "shell.execute_reply": "2025-10-08T15:32:35.433284Z",
     "shell.execute_reply.started": "2025-10-08T15:32:35.429743Z"
    }
   },
   "outputs": [
    {
     "data": {
      "text/plain": [
       "['L1', 'L2', 'L3', 'M3', 'M4', 'M5']"
      ]
     },
     "execution_count": 73,
     "metadata": {},
     "output_type": "execute_result"
    }
   ],
   "source": [
    "initial_shells = sorted(list(set([lines[n].initial_level for n in names])))\n",
    "initial_shells"
   ]
  },
  {
   "cell_type": "code",
   "execution_count": 74,
   "id": "1b7fa7a4-169b-4424-a680-6961cc136c36",
   "metadata": {
    "execution": {
     "iopub.execute_input": "2025-10-09T07:32:08.095318Z",
     "iopub.status.busy": "2025-10-09T07:32:08.095069Z",
     "iopub.status.idle": "2025-10-09T07:32:08.100702Z",
     "shell.execute_reply": "2025-10-09T07:32:08.100162Z",
     "shell.execute_reply.started": "2025-10-09T07:32:08.095298Z"
    }
   },
   "outputs": [
    {
     "data": {
      "text/plain": [
       "{'K': XrayEdge(energy=7112.0, fyield=0.350985, jump_ratio=7.893),\n",
       " 'L1': XrayEdge(energy=844.6, fyield=0.001, jump_ratio=1.1289),\n",
       " 'L2': XrayEdge(energy=719.9, fyield=0.0036, jump_ratio=1.4),\n",
       " 'L3': XrayEdge(energy=706.8, fyield=0.0063, jump_ratio=3.099),\n",
       " 'M1': XrayEdge(energy=91.3, fyield=2.8e-06, jump_ratio=1.0),\n",
       " 'M2': XrayEdge(energy=52.7, fyield=1.6e-05, jump_ratio=1.0),\n",
       " 'M3': XrayEdge(energy=52.7, fyield=0.0, jump_ratio=1.0),\n",
       " 'M4': XrayEdge(energy=2.0, fyield=0.00219375, jump_ratio=1.0),\n",
       " 'M5': XrayEdge(energy=2.0, fyield=0.0, jump_ratio=1.0)}"
      ]
     },
     "execution_count": 74,
     "metadata": {},
     "output_type": "execute_result"
    }
   ],
   "source": [
    "edges_dict = xraydb.xray_edges('Fe')\n",
    "edges_dict"
   ]
  },
  {
   "cell_type": "code",
   "execution_count": 65,
   "id": "ff6581ed-6296-48a3-8ea3-2e07cc66cb83",
   "metadata": {
    "execution": {
     "iopub.execute_input": "2025-10-08T15:05:02.810723Z",
     "iopub.status.busy": "2025-10-08T15:05:02.810356Z",
     "iopub.status.idle": "2025-10-08T15:05:02.814525Z",
     "shell.execute_reply": "2025-10-08T15:05:02.813973Z",
     "shell.execute_reply.started": "2025-10-08T15:05:02.810703Z"
    }
   },
   "outputs": [
    {
     "data": {
      "text/plain": [
       "[7.893, 1.1289, 1.4, 3.099]"
      ]
     },
     "execution_count": 65,
     "metadata": {},
     "output_type": "execute_result"
    }
   ],
   "source": [
    "jump_ratios = [edges_dict[s].jump_ratio for s in initial_shells]\n",
    "jump_ratios"
   ]
  },
  {
   "cell_type": "code",
   "execution_count": 66,
   "id": "c4d85e3d-0aad-46fe-a806-6a493621ef5b",
   "metadata": {
    "execution": {
     "iopub.execute_input": "2025-10-08T15:09:47.837299Z",
     "iopub.status.busy": "2025-10-08T15:09:47.836691Z",
     "iopub.status.idle": "2025-10-08T15:09:47.841558Z",
     "shell.execute_reply": "2025-10-08T15:09:47.840977Z",
     "shell.execute_reply.started": "2025-10-08T15:09:47.837278Z"
    }
   },
   "outputs": [
    {
     "data": {
      "text/plain": [
       "array([0.87330546, 0.11418195, 0.28571429, 0.67731526])"
      ]
     },
     "execution_count": 66,
     "metadata": {},
     "output_type": "execute_result"
    }
   ],
   "source": [
    "jump_probabilities = np.array([ ((r - 1) / r) for r in jump_ratios ])\n",
    "jump_probabilities"
   ]
  },
  {
   "cell_type": "code",
   "execution_count": 68,
   "id": "8fd75567-1cbf-4c75-ae8b-6eb3c2840eea",
   "metadata": {
    "execution": {
     "iopub.execute_input": "2025-10-08T15:10:19.599857Z",
     "iopub.status.busy": "2025-10-08T15:10:19.599417Z",
     "iopub.status.idle": "2025-10-08T15:10:19.603984Z",
     "shell.execute_reply": "2025-10-08T15:10:19.603370Z",
     "shell.execute_reply.started": "2025-10-08T15:10:19.599836Z"
    }
   },
   "outputs": [
    {
     "data": {
      "text/plain": [
       "np.float64(0.9874874075627315)"
      ]
     },
     "execution_count": 68,
     "metadata": {},
     "output_type": "execute_result"
    }
   ],
   "source": [
    "jump_probabilities[0:2].sum()"
   ]
  },
  {
   "cell_type": "markdown",
   "id": "18d6549f-ec35-4263-ab57-64e15a35c4db",
   "metadata": {},
   "source": [
    "We need to c"
   ]
  },
  {
   "cell_type": "code",
   "execution_count": 47,
   "id": "756a2f86-979e-43de-988c-65d4ec0dd83a",
   "metadata": {
    "execution": {
     "iopub.execute_input": "2025-10-08T10:14:59.718394Z",
     "iopub.status.busy": "2025-10-08T10:14:59.718139Z",
     "iopub.status.idle": "2025-10-08T10:14:59.722545Z",
     "shell.execute_reply": "2025-10-08T10:14:59.721916Z",
     "shell.execute_reply.started": "2025-10-08T10:14:59.718373Z"
    }
   },
   "outputs": [
    {
     "data": {
      "text/plain": [
       "['Lb4', 'Lb3']"
      ]
     },
     "execution_count": 47,
     "metadata": {},
     "output_type": "execute_result"
    }
   ],
   "source": [
    "Fe_names = list(Fe_lines.keys())\n",
    "Fe_names[6:8]"
   ]
  },
  {
   "cell_type": "markdown",
   "id": "2cf782f4-caf2-4d4e-b9cc-8d4208fe965f",
   "metadata": {},
   "source": [
    "## Defisxing..."
   ]
  },
  {
   "cell_type": "code",
   "execution_count": 5,
   "id": "577862f6-769a-4037-bc89-89ad206554d4",
   "metadata": {
    "execution": {
     "iopub.execute_input": "2025-10-06T14:54:34.838863Z",
     "iopub.status.busy": "2025-10-06T14:54:34.838416Z",
     "iopub.status.idle": "2025-10-06T14:54:35.200071Z",
     "shell.execute_reply": "2025-10-06T14:54:35.199583Z",
     "shell.execute_reply.started": "2025-10-06T14:54:34.838830Z"
    }
   },
   "outputs": [
    {
     "name": "stdout",
     "output_type": "stream",
     "text": [
      "energy_list:[23]\n",
      "sorting:[0]\n",
      "weight_list:[1]\n",
      "element:Pb\n",
      "atomic_number:82\n",
      "excitation_energy:23000\n",
      "lines:{'Lb4': XrayLine(energy=12307.0, intensity=0.338604, initial_level='L1', final_level='M2'), 'Lb3': XrayLine(energy=12795.0, intensity=0.401364, initial_level='L1', final_level='M3'), 'Lg2': XrayLine(energy=15099.1, intensity=0.114773, initial_level='L1', final_level='N2'), 'Lg3': XrayLine(energy=15217.5, intensity=0.145259, initial_level='L1', final_level='N3'), 'Ln': XrayLine(energy=11349.0, intensity=0.0181159, initial_level='L2', final_level='M1'), 'Lb1': XrayLine(energy=12614.0, intensity=0.787801, initial_level='L2', final_level='M4'), 'Lg1': XrayLine(energy=14765.7, intensity=0.165149, initial_level='L2', final_level='N4'), 'Lg6': XrayLine(energy=15179.3, intensity=0.0289336, initial_level='L2', final_level='O4'), 'Ll': XrayLine(energy=9184.0, intensity=0.0379508, initial_level='L3', final_level='M1'), 'La2': XrayLine(energy=10449.0, intensity=0.0763391, initial_level='L3', final_level='M4'), 'La1': XrayLine(energy=10551.0, intensity=0.683544, initial_level='L3', final_level='M5'), 'Lb6': XrayLine(energy=12143.2, intensity=0.0106552, initial_level='L3', final_level='N1'), 'Lb2,15': XrayLine(energy=12600.7, intensity=0.169784, initial_level='L3', final_level='N4,5'), 'Lb5': XrayLine(energy=13014.3, intensity=0.0217267, initial_level='L3', final_level='O4,5'), 'Mg': XrayLine(energy=2653.8, intensity=1.0, initial_level='M3', final_level='N5'), 'Mb': XrayLine(energy=2444.3, intensity=0.997068, initial_level='M4', final_level='N6'), 'Ma': XrayLine(energy=2342.3, intensity=1.0, initial_level='M5', final_level='N6,7')}\n",
      "peak_intensities:[0.00512198 0.00607134 0.00173614 0.0021973  0.00193064 0.08395708\n",
      " 0.01760016 0.0030835  0.00821046 0.01651557 0.14788117 0.0023052\n",
      " 0.03673188 0.00470046 0.00069196 0.00654814 0.01325935]\n",
      "indices:[10  5 12  6  9 16  8 15  1  0 13  7 11  3  4  2 14]\n",
      "peak_intensities:[0.005121980396315357, 0.006071335659905722, 0.0017361432706828699, 0.0021972975818016693, 0.0019306373428571422, 0.08395707799999998, 0.01760016485714285, 0.003083495085714285, 0.008210457193934557, 0.01651556522585794, 0.14788117120510774, 0.0023051968204309656, 0.03673188086193136, 0.0047004579696727855, 0.0006919640037277696, 0.006548135713043476, 0.013259348321001705]\n",
      "peak_energies:[12307.0, 12795.0, 15099.1, 15217.5, 11349.0, 12614.0, 14765.7, 15179.3, 9184.0, 10449.0, 10551.0, 12143.2, 12600.7, 13014.3, 2653.8, 2444.3, 2342.3]\n",
      "peak_names:['Lb4', 'Lb3', 'Lg2', 'Lg3', 'Ln', 'Lb1', 'Lg1', 'Lg6', 'Ll', 'La2', 'La1', 'Lb6', 'Lb2,15', 'Lb5', 'Mg', 'Mb', 'Ma']\n",
      "peak_labels:['Pb_L1M2', 'Pb_L1M3', 'Pb_L1N2', 'Pb_L1N3', 'Pb_L2M1', 'Pb_L2M4', 'Pb_L2N4', 'Pb_L2O4', 'Pb_L3M1', 'Pb_L3M4', 'Pb_L3M5', 'Pb_L3N1', 'Pb_L3N4,5', 'Pb_L3O4,5', 'Pb_M3N5', 'Pb_M4N6', 'Pb_M5N6,7']\n",
      "         energy\n",
      "La1     10.5510\n",
      "Lb1     12.6140\n",
      "Lb2,15  12.6007\n",
      "Lg1     14.7657\n",
      "La2     10.4490\n",
      "Ma       2.3423\n",
      "Ll       9.1840\n",
      "Mb       2.4443\n",
      "Lb3     12.7950\n",
      "Lb4     12.3070\n",
      "Lb5     13.0143\n",
      "Lg6     15.1793\n",
      "Lb6     12.1432\n",
      "Lg3     15.2175\n",
      "Ln      11.3490\n",
      "Lg2     15.0991\n",
      "Mg       2.6538\n",
      "total_spectrum:[0. 0. 0. ... 0. 0. 0.]\n"
     ]
    }
   ],
   "source": [
    "xf = XFluo(\"Pb\", 23)"
   ]
  },
  {
   "cell_type": "code",
   "execution_count": 6,
   "id": "de049319-3ee5-4125-9d7e-80d670756000",
   "metadata": {
    "execution": {
     "iopub.execute_input": "2025-10-06T14:55:15.443405Z",
     "iopub.status.busy": "2025-10-06T14:55:15.443214Z",
     "iopub.status.idle": "2025-10-06T14:55:15.892495Z",
     "shell.execute_reply": "2025-10-06T14:55:15.892009Z",
     "shell.execute_reply.started": "2025-10-06T14:55:15.443395Z"
    }
   },
   "outputs": [
    {
     "data": {
      "image/png": "[encoded data removed]",
      "text/plain": [
       "<Figure size 1200x500 with 1 Axes>"
      ]
     },
     "metadata": {},
     "output_type": "display_data"
    }
   ],
   "source": [
    "xf.plot()"
   ]
  },
  {
   "cell_type": "code",
   "execution_count": 25,
   "id": "c1d70245-c33f-413c-a600-8478efaa8fb3",
   "metadata": {
    "execution": {
     "iopub.execute_input": "2025-10-06T15:37:07.657994Z",
     "iopub.status.busy": "2025-10-06T15:37:07.657719Z",
     "iopub.status.idle": "2025-10-06T15:37:07.885412Z",
     "shell.execute_reply": "2025-10-06T15:37:07.884959Z",
     "shell.execute_reply.started": "2025-10-06T15:37:07.657973Z"
    }
   },
   "outputs": [],
   "source": [
    "xf = XFluo('Pb', 23)"
   ]
  },
  {
   "cell_type": "code",
   "execution_count": 28,
   "id": "f5213dcc-e44e-43e6-9dae-694322e8feb3",
   "metadata": {
    "execution": {
     "iopub.execute_input": "2025-10-06T15:37:38.329775Z",
     "iopub.status.busy": "2025-10-06T15:37:38.329323Z",
     "iopub.status.idle": "2025-10-06T15:37:38.707105Z",
     "shell.execute_reply": "2025-10-06T15:37:38.706572Z",
     "shell.execute_reply.started": "2025-10-06T15:37:38.329752Z"
    }
   },
   "outputs": [],
   "source": [
    "x, y = get_element_spectrum('Pb', 23, normalize=False)"
   ]
  },
  {
   "cell_type": "code",
   "execution_count": 30,
   "id": "ce1eaec3-6cf1-4b9b-a13a-469aaa831199",
   "metadata": {
    "execution": {
     "iopub.execute_input": "2025-10-06T15:39:02.220892Z",
     "iopub.status.busy": "2025-10-06T15:39:02.220428Z",
     "iopub.status.idle": "2025-10-06T15:39:02.779115Z",
     "shell.execute_reply": "2025-10-06T15:39:02.778700Z",
     "shell.execute_reply.started": "2025-10-06T15:39:02.220871Z"
    }
   },
   "outputs": [
    {
     "data": {
      "image/png": "[encoded data removed]",
      "text/plain": [
       "<Figure size 640x480 with 1 Axes>"
      ]
     },
     "metadata": {},
     "output_type": "display_data"
    }
   ],
   "source": [
    "fig, ax = plt.subplots()\n",
    "\n",
    "for element in ['Pb', 'Ca']:\n",
    "    x, y = get_element_spectrum(element, 23, normalize=False)  \n",
    "    ax.plot(x, y)"
   ]
  },
  {
   "cell_type": "markdown",
   "id": "bbf5015b-7b3c-4c43-8431-e37d37e9875c",
   "metadata": {},
   "source": [
    "## FUNCTIONS "
   ]
  },
  {
   "cell_type": "code",
   "execution_count": 3,
   "id": "d175647a-fba3-4ba6-ba0a-dfb6739575e2",
   "metadata": {
    "execution": {
     "iopub.execute_input": "2025-10-06T14:54:24.292163Z",
     "iopub.status.busy": "2025-10-06T14:54:24.291908Z",
     "iopub.status.idle": "2025-10-06T14:54:24.295879Z",
     "shell.execute_reply": "2025-10-06T14:54:24.295306Z",
     "shell.execute_reply.started": "2025-10-06T14:54:24.292143Z"
    }
   },
   "outputs": [],
   "source": [
    "# Periodic Table \n",
    "import mendeleev as mv \n",
    "from mendeleev.fetch import fetch_table \n",
    "\n",
    "# basic XRF physics \n",
    "#from fisx import Elements \n",
    "import xraydb\n",
    "# advanced XRF stuff that we do no need now   \n",
    "#from fisx import Material\n",
    "#from fisx import Detector\n",
    "#from fisx import XRF \n",
    "\n",
    "# peak finding \n",
    "import scipy.signal as ssg\n",
    "import scipy\n",
    "\n",
    "# plotting \n",
    "import pandas as pd \n",
    "import numpy as np\n",
    "import matplotlib.pyplot as plt\n",
    "import matplotlib.patches as mpatches \n",
    "import matplotlib.cm as cm \n",
    "import seaborn as sb"
   ]
  },
  {
   "cell_type": "code",
   "execution_count": 24,
   "id": "4e85f56c-913f-4d48-ac17-135d260c4078",
   "metadata": {
    "execution": {
     "iopub.execute_input": "2025-10-06T15:36:57.010262Z",
     "iopub.status.busy": "2025-10-06T15:36:57.010077Z",
     "iopub.status.idle": "2025-10-06T15:36:57.023477Z",
     "shell.execute_reply": "2025-10-06T15:36:57.023028Z",
     "shell.execute_reply.started": "2025-10-06T15:36:57.010252Z"
    }
   },
   "outputs": [],
   "source": [
    "def _colorize(elem_select, crop=True): \n",
    "    '''High contrast standard color palette for list of elements *elem_select*.\n",
    "    \n",
    "    '''\n",
    "    \n",
    "    DEFAULT_COLOR = [0.4, 0.4, 0.9, 0.3] \n",
    "    \n",
    "    # return single color tuple is argument is string, e.g. 'Fe' \n",
    "    return_single_color_tuple = False \n",
    "    if type(elem_select) == str:\n",
    "        return_single_color_tuple = True \n",
    "        elem_select = [elem_select]\n",
    "        \n",
    "    # create standard palette for Hydrogen(Z=1) to Organesson(Z=117) \n",
    "    palette = []\n",
    "    for tone in ['pastel', 'bright', 'deep', 'dark'] * 3:  \n",
    "        palette.extend(sb.palettes.color_palette(tone))\n",
    "    palette = np.array(palette)[0:118]\n",
    "    # and include unity alpha channel\n",
    "    palette = np.c_[palette, np.ones(len(palette))]\n",
    "    \n",
    "    # return full color palette if argument is empty list \n",
    "    if len(elem_select) == 0:\n",
    "        return palette\n",
    " \n",
    "    else: \n",
    "        # find index position (Z-1) of elements   \n",
    "        ptable_indices = [mv.element(e).atomic_number - 1 for e in elem_select]\n",
    "        \n",
    "        # initialize all element color list with light blue grey \n",
    "        colors = np.zeros([118, 4])\n",
    "        colors[:] = DEFAULT_COLOR \n",
    "        \n",
    "        # colorize selected elements with standard palette color \n",
    "        colors[ptable_indices] = palette[ptable_indices]\n",
    "        \n",
    "        # skip colors for non selected elements \n",
    "        if crop: \n",
    "            colors = palette[ptable_indices]\n",
    "\n",
    "            # for single element just return color tuple \n",
    "            if return_single_color_tuple: \n",
    "                return colors[0]   \n",
    "\n",
    "            else: \n",
    "                return colors, ptable_indices \n",
    "            \n",
    "        return colors, ptable_indices\n",
    "\n",
    "\n",
    "        \n",
    "\n",
    "\n",
    "# fisx instantiation is needed before continuing \n",
    "# elementsInstance = Elements()\n",
    "# elementsInstance.initializeAsPyMca()\n",
    "\n",
    "class XFluo: \n",
    "    \n",
    "    def __init__(self, element, excitation_energy, weight_list='equal', std=0.01, min_prom=0.001, verbose=False): \n",
    "        '''Create an annotated x-ray fluorescence spectrum object. \n",
    "        \n",
    "        Args: \n",
    "            element (str): Chemical symbol e.g 'Fe' \n",
    "            excitation_energy (float or list of floats): X-ray tube energies in keV. \n",
    "               For a poly chromatic X-ray tube multiple energies can be provided.  \n",
    "            weight_list (list of numbers): X-ray energy weights. \n",
    "                Corresponding to energy_list     \n",
    "            std (number): Peak width used for plotting \n",
    "            min_prom (number): Minimal peak prominance. \n",
    "                Only peaks higher then prominance are labeled. \n",
    "                \n",
    "        Example: \n",
    "            xf = XFluo('Fe', [20, 40])\n",
    "                \n",
    "        \n",
    "        Returns: \n",
    "            XRF annotated spectrum object \n",
    "        '''\n",
    "        # convert into list if single number\n",
    "        energy_list = np.array([excitation_energy]).flatten() \n",
    "        \n",
    "        sorting = np.argsort(energy_list)\n",
    "        energy_list = np.array(energy_list)[sorting] # need to make sure last energy is highest ? \n",
    "        if verbose: \n",
    "            print(f\"energy_list:{energy_list}\")\n",
    "            print(f\"sorting:{sorting}\")\n",
    "        if weight_list == 'equal': \n",
    "            weight_list = np.ones_like(energy_list) \n",
    "        \n",
    "        weight_list = np.array(weight_list)[sorting]\n",
    "        if verbose: \n",
    "            print(f\"weight_list:{weight_list}\")\n",
    "        self.element = element \n",
    "        if verbose: \n",
    "            print(f\"element:{self.element}\")\n",
    "        self.atomic_number = mv.element(element).atomic_number \n",
    "        if verbose: \n",
    "            print(f\"atomic_number:{self.atomic_number}\")\n",
    "    \n",
    "        self.x = np.linspace(0, max(energy_list), 2000) \n",
    "        \n",
    "        self.total_spectrum_stack = np.zeros([len(energy_list), len(self.x)]) # initialize \n",
    "        \n",
    "        excitation_energy *= 1000\n",
    "        if verbose: \n",
    "            print(f\"excitation_energy:{excitation_energy}\")\n",
    "        self.lines = xraydb.xray_lines(element, excitation_energy=excitation_energy) \n",
    "        if verbose: \n",
    "            print(f\"lines:{self.lines}\")\n",
    "        peak_names = []\n",
    "        peak_labels = []\n",
    "        peak_energies = [] \n",
    "        peak_intensities = []\n",
    "\n",
    "        for name, line in self.lines.items(): \n",
    "\n",
    "            peak_names.append(name)\n",
    "\n",
    "            # intensities (a.k.a. transition probablities) sum up to unity within each level \n",
    "            energy, intensity, initial_level, final_level = line  \n",
    "            peak_energies.append(energy)\n",
    "            label = f'{element}_{initial_level}{final_level}' \n",
    "            peak_labels.append(label)\n",
    "\n",
    "            # get corresponding edge properties \n",
    "            edge = initial_level # IUPAC notation!  e.g. 'L1', not 'La'\n",
    "            edge_energy, fluo_yield, jump_ratio = xraydb.xray_edge(element, edge) \n",
    "            jump_coeff = (jump_ratio - 1) / jump_ratio # see Volker \n",
    "            #print(f'{name}: {energy}; jump_coeff: {jump_coeff:.03f}; fluo_yield: {fluo_yield}')\n",
    "\n",
    "            # multiplying edge jump coefficient, intensity and fluorescence yield... \n",
    "            peak_intensity = jump_coeff * intensity * fluo_yield \n",
    "            peak_intensities.append(peak_intensity) \n",
    "        \n",
    "        # determine sorting according to peak_intensities... \n",
    "        self.peak_intensities = np.array(peak_intensities)\n",
    "        if verbose: \n",
    "            print(f\"peak_intensities:{self.peak_intensities}\")\n",
    "        indices = np.argsort(self.peak_intensities)[::-1] \n",
    "        if verbose: \n",
    "            print(f\"indices:{indices}\")\n",
    "        # sort \n",
    "        self.peak_intensities = self.peak_intensities[indices]\n",
    "        self.peak_energies = np.array(peak_energies)[indices] / 1000\n",
    "        self.peak_names = np.array(peak_names)[indices]\n",
    "        self.peak_labels = np.array(peak_labels)[indices]\n",
    "        if verbose: \n",
    "            print(f\"peak_intensities:{peak_intensities}\")\n",
    "            print(f\"peak_energies:{peak_energies}\")\n",
    "            print(f\"peak_names:{peak_names}\")\n",
    "            print(f\"peak_labels:{peak_labels}\")\n",
    "\n",
    "\n",
    "        self.lines_df = pd.DataFrame({'energy': self.peak_energies}, index=self.peak_names)\n",
    "\n",
    "        #self.lines_df.set_index(self.lines_df.columns[0])\n",
    "        if verbose: \n",
    "            print(self.lines_df)\n",
    "        # find indices of nearest excitations \n",
    "        # corrected bug with .values \n",
    "        #nearest = np.argmin((self.lines_df['energy'].values[:, None] - self.peak_energies[None, :])**2, axis=0)  \n",
    "        #self.peak_excits = list(self.lines_df.index[nearest])\n",
    "        #self.total_spectrum = get_element_spectrum(element,excitation_energy) #, self.peak_energies, self.peak_intensities)\n",
    "        #self.total_spectrum = self.total_spectrum_stack.sum(axis=0) \n",
    "        if verbose: \n",
    "            print(f\"total_spectrum:{self.total_spectrum}\")\n",
    "        \n",
    "        \n",
    "        \n",
    "    def plot(self, ax=None, color=None, figsize=[12, 5], tight_layout=True, up=False, mos=False, peak_labels='simple'):\n",
    "        '''Plot an xrf spectrum'''\n",
    "\n",
    "        if ax is None: \n",
    "            fig, ax = plt.subplots(figsize=figsize) \n",
    "        else: \n",
    "            fig = ax.get_figure() \n",
    "            \n",
    "        if up is False: \n",
    "            Z = 0 \n",
    "            if mos is False: \n",
    "                h = 1 \n",
    "            elif mos is True: \n",
    "                h = 4 \n",
    "        else: \n",
    "            Z = self.atomic_number \n",
    "            h = 4 \n",
    "            \n",
    "        x = self.x \n",
    "        y = h * self.total_spectrum + Z\n",
    "        \n",
    "        px = self.peak_energies\n",
    "        py = h * self.peak_intensities + Z \n",
    "\n",
    "        #ax.fill_between(self.x, self.total_spectrum, color=color, alpha=0.3)\n",
    "        #ax.plot(self.x, self.total_spectrum, color=color)\n",
    "        #ax.scatter(self.peak_energies, self.peak_intensities + dy, color=color) \n",
    "        \n",
    "        if color is None: \n",
    "            color = _colorize(self.element)\n",
    "        \n",
    "        ax.fill_between(x, y, y2=Z, color=color, alpha=0.3)\n",
    "        ax.plot(x, y, color=color)\n",
    "        \n",
    "        if peak_labels != 'none': \n",
    "            ax.scatter(px, py, color=color)\n",
    "            for e in px: \n",
    "                ax.axvline(e, color=color, alpha=0.3)\n",
    "        \n",
    "        ax.set_xlabel('energy (keV)')\n",
    "        #ax.set_ylim(0, 1.2)\n",
    "        \n",
    "        \n",
    "        # peak labels \n",
    "        if peak_labels == 'full': \n",
    "            xy_list = list(zip(px, py))\n",
    "            for i, s in enumerate(self.peak_excits): \n",
    "                ax.annotate(f'{self.element}\\n{s}\\n{self.peak_energies[i]:.3f}keV',\n",
    "                            xy_list[i], \n",
    "                            xycoords='data', xytext=(0, 7), textcoords='offset points',\n",
    "                            color=color, \n",
    "                            bbox=dict(boxstyle=\"round\", alpha=0, edgecolor='white', facecolor='white')) \n",
    "                \n",
    "        elif peak_labels == 'simple': \n",
    "            xy_list = list(zip(px, py))\n",
    "            for i, s in enumerate(self.peak_excits): \n",
    "                ax.annotate(f'{self.element}',\n",
    "                            xy_list[i], \n",
    "                            xycoords='data', xytext=(0, 7), textcoords='offset points',\n",
    "                            color=color, \n",
    "                            bbox=dict(boxstyle=\"round\", alpha=0, edgecolor='white', facecolor='white'))   \n",
    "                \n",
    "        elif peak_labels == 'none': \n",
    "            pass\n",
    "        \n",
    "        # seems to slow down plotting \n",
    "        #or not? \n",
    "        if tight_layout:\n",
    "            fig.tight_layout()\n",
    "            \n",
    "        # (self.peak_energies[i], self.peak_intensities[i]),           \n",
    "\n",
    "def gaussian_convolve(peak_energies, peak_intensities, x_keVs=None, std=0.01, xmin=0, xmax=40): \n",
    "    '''Convolves line spectrum defined by `peak_energies` and `peak_intensities` \n",
    "    \n",
    "    with a Gaussian peak shape. '''\n",
    "    \n",
    "    # generate x_keVs if not provided \n",
    "    if x_keVs is None: \n",
    "        x_keVs = np.linspace(xmin, xmax, 10000)\n",
    "\n",
    "    y_spectrum = np.zeros_like(x_keVs) \n",
    "\n",
    "    for peak_energy, peak_intensity in zip(peak_energies, peak_intensities): \n",
    "\n",
    "        y_spectrum += peak_intensity * np.exp(-(1 / std) * (x_keVs - peak_energy)**2)\n",
    "        \n",
    "    return x_keVs, y_spectrum \n",
    "\n",
    "\n",
    "def get_element_spectrum(element, excitation_energy_keV, normalize=True, x_keVs=None, std=0.01): \n",
    "    '''Compute simple excitation spectrum (no matrix effects). \n",
    "    \n",
    "    Based on xraydb. \n",
    "    \n",
    "    Returns: y_spectrum (or x, y_spectrum if `x_keVs` is not provided) '''\n",
    "\n",
    "    xf = XFluo(element, excitation_energy_keV, std=std)\n",
    "    x, y_spectrum = gaussian_convolve(xf.peak_energies, xf.peak_intensities, x_keVs=x_keVs, std=std)\n",
    "    \n",
    "    if normalize: \n",
    "        y_spectrum = y_spectrum / y_spectrum.max()\n",
    "        \n",
    "    if x_keVs is None: \n",
    "        return x, y_spectrum \n",
    "    \n",
    "    else: \n",
    "        return y_spectrum \n",
    "\n",
    "    \n",
    "def get_element_spectra(elements, x_keVs, excitation_energy_keV): \n",
    "    '''Compute theoretical emission spectrum for multiple elements. \n",
    "    \n",
    "    Sorts elements according to largest (alpha) peak. Based on xraydb. \n",
    "    \n",
    "    Returns: elements, element_spectra\n",
    "    '''\n",
    "\n",
    "    n_channels = len(x_keVs)\n",
    "    n_elements = len(elements)\n",
    "\n",
    "    element_spectra = np.zeros([n_elements, n_channels]) \n",
    "\n",
    "    for i, elem in enumerate(elements): \n",
    "        element_spectra[i] = get_element_spectrum(elem, excitation_energy_keV, x_keVs=x_keVs)\n",
    "\n",
    "        # normalize\n",
    "        element_spectra[i] = element_spectra[i] / element_spectra[i].max()\n",
    "\n",
    "\n",
    "    # sort according to energy of largest (=alpha) peak\n",
    "    alpha_idxs = np.argmax(element_spectra, axis=1)\n",
    "    alpha_order = np.argsort(alpha_idxs) \n",
    "\n",
    "    elements = [elements[i] for i in alpha_order]\n",
    "    element_spectra = element_spectra[alpha_order]\n",
    "    \n",
    "    return elements, element_spectra "
   ]
  },
  {
   "cell_type": "code",
   "execution_count": null,
   "id": "f03435a4-f06a-4979-b6f0-48b176e93ed0",
   "metadata": {},
   "outputs": [],
   "source": []
  }
 ],
 "metadata": {
  "kernelspec": {
   "display_name": "Python 3 (ipykernel)",
   "language": "python",
   "name": "python3"
  },
  "language_info": {
   "codemirror_mode": {
    "name": "ipython",
    "version": 3
   },
   "file_extension": ".py",
   "mimetype": "text/x-python",
   "name": "python",
   "nbconvert_exporter": "python",
   "pygments_lexer": "ipython3",
   "version": "3.12.9"
  }
 },
 "nbformat": 4,
 "nbformat_minor": 5
}
