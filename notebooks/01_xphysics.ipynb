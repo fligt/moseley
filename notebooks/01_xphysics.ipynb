{
 "cells": [
  {
   "cell_type": "code",
   "execution_count": null,
   "metadata": {},
   "outputs": [],
   "source": [
    "#|export \n",
    "\n",
    "import numpy as np \n",
    "import xraydb \n",
    "\n",
    "def gaussian_convolve(peak_energies, peak_intensities, x_keVs=None, std=0.01): \n",
    "    '''Convolves line spectrum defined by `peak_energies` and `peak_intensities` \n",
    "    \n",
    "    with a Gaussian peak shape. '''\n",
    "    \n",
    "    if x_keVs is None: \n",
    "        x_keVs = np.linspace(0, 40, 10000)\n",
    "\n",
    "    y_spectrum = np.zeros_like(x_keVs) \n",
    "\n",
    "    for peak_energy, peak_intensity in zip(peak_energies, peak_intensities): \n",
    "\n",
    "        y_spectrum += peak_intensity * np.exp(-(1 / std) * (x_keVs - peak_energy)**2)\n",
    "        \n",
    "    return x_keVs, y_spectrum \n",
    "\n",
    "\n",
    "class ElementLines(): \n",
    "    '''Computes fluorescence emission line energies and intensities for `element`.\n",
    "    \n",
    "    '''\n",
    "    \n",
    "    def __init__(self, element, excitation_energy_keV): \n",
    "\n",
    "        excitation_energy = 1000 * excitation_energy_keV\n",
    "\n",
    "        lines = xraydb.xray_lines(element, excitation_energy=excitation_energy) \n",
    "\n",
    "        peak_names = []\n",
    "        peak_labels = []\n",
    "        peak_energies = [] \n",
    "        peak_intensities = []\n",
    "\n",
    "        for name, line in lines.items(): \n",
    "\n",
    "            peak_names.append(name)\n",
    "\n",
    "            # intensities (a.k.a. transition probablities) sum up to unity within each level \n",
    "            energy, intensity, initial_level, final_level = line  \n",
    "            peak_energies.append(energy)\n",
    "            label = f'{element}_{initial_level}{final_level}' \n",
    "            peak_labels.append(label)\n",
    "\n",
    "            # get corresponding edge properties \n",
    "            edge = initial_level # IUPAC notation!  e.g. 'L1', not 'La'\n",
    "            edge_energy, fluo_yield, jump_ratio = xraydb.xray_edge(element, edge) \n",
    "            jump_coeff = (jump_ratio - 1) / jump_ratio # see Volker \n",
    "            #print(f'{name}: {energy}; jump_coeff: {jump_coeff:.03f}; fluo_yield: {fluo_yield}')\n",
    "\n",
    "            # multiplying edge jump coefficient, intensity and fluorescence yield... \n",
    "            peak_intensity = jump_coeff * intensity * fluo_yield \n",
    "            peak_intensities.append(peak_intensity) \n",
    "        \n",
    "        # determine sorting according to peak_intensities... \n",
    "        self.peak_intensities = np.array(peak_intensities)\n",
    "        indices = np.argsort(self.peak_intensities)[::-1] \n",
    "\n",
    "        # sort \n",
    "        self.peak_intensities = self.peak_intensities[indices]\n",
    "        self.peak_energies = np.array(peak_energies)[indices] / 1000\n",
    "        self.peak_names = np.array(peak_names)[indices]\n",
    "        self.peak_labels = np.array(peak_labels)[indices]\n",
    "\n",
    "        \n",
    "def get_element_spectrum(element, excitation_energy_keV, normalize=True, x_keVs=None, std=0.01): \n",
    "    '''Compute simple excitation spectrum (no matrix effects). \n",
    "    \n",
    "    Based on xraydb. \n",
    "    \n",
    "    Returns: y_spectrum'''\n",
    "    \n",
    "    el = ElementLines(element, excitation_energy_keV)  \n",
    "    \n",
    "    x, y_spectrum = gaussian_convolve(el.peak_energies, el.peak_intensities, x_keVs=x_keVs, std=std)\n",
    "    \n",
    "    if normalize: \n",
    "        y_spectrum = y_spectrum / y_spectrum.max()\n",
    "        \n",
    "    if x_keVs is None: \n",
    "    \n",
    "        return x, y_spectrum \n",
    "    \n",
    "    else: \n",
    "        return y_spectrum \n",
    "\n",
    "    \n",
    "def get_element_spectra(elements, x_keVs, excitation_energy_keV): \n",
    "    '''Compute theoretical emission spectrum for multiple elements. \n",
    "    \n",
    "    Sorts elements according to largest (alpha) peak. Based on xraydb. \n",
    "    \n",
    "    Returns: elements, element_spectra\n",
    "    '''\n",
    "\n",
    "    n_channels = len(x_keVs)\n",
    "    n_elements = len(elements)\n",
    "\n",
    "    element_spectra = np.zeros([n_elements, n_channels]) \n",
    "\n",
    "    for i, elem in enumerate(elements): \n",
    "        element_spectra[i] = get_element_spectrum(elem, excitation_energy_keV, x_keVs=x_keVs)\n",
    "\n",
    "        # normalize\n",
    "        element_spectra[i] = element_spectra[i] / element_spectra[i].max()\n",
    "\n",
    "\n",
    "    # sort according to energy of largest (=alpha) peak\n",
    "    alpha_idxs = np.argmax(element_spectra, axis=1)\n",
    "    alpha_order = np.argsort(alpha_idxs) \n",
    "\n",
    "    elements = [elements[i] for i in alpha_order]\n",
    "    element_spectra = element_spectra[alpha_order]\n",
    "    \n",
    "    return elements, element_spectra \n"
   ]
  },
  {
   "cell_type": "markdown",
   "metadata": {},
   "source": [
    "# More ideas "
   ]
  },
  {
   "cell_type": "markdown",
   "metadata": {},
   "source": [
    "## Absorption and scattering "
   ]
  },
  {
   "cell_type": "markdown",
   "metadata": {},
   "source": [
    "The xraydb documentation gives an example calculation for different mass attenuation cross sections."
   ]
  },
  {
   "cell_type": "code",
   "execution_count": null,
   "metadata": {},
   "outputs": [],
   "source": [
    "import numpy as np\n",
    "import matplotlib.pyplot as plt\n",
    "from xraydb import mu_elam "
   ]
  },
  {
   "cell_type": "code",
   "execution_count": null,
   "metadata": {},
   "outputs": [
    {
     "data": {
      "text/html": [
       "..<img src=\"./images/90_xphysics_ae0c8c48fa.png\">"
      ]
     },
     "execution_count": null,
     "metadata": {},
     "output_type": "execute_result"
    }
   ],
   "source": [
    "energy = np.arange(500, 25000, 10)  # energy in eV\n",
    "energy_keV = energy / 1000 \n",
    "\n",
    "\n",
    "fig, axs = plt.subplots(nrows=2, ncols=2, figsize=[9, 7], sharex=True, sharey=True) \n",
    "axs = axs.flatten()\n",
    "\n",
    "elements = ['C', 'Ca', 'Fe', 'Pb']\n",
    "\n",
    "for i, elem in enumerate(elements):       \n",
    "\n",
    "    mu_total = mu_elam(elem, energy, kind='total')\n",
    "    mu_photo = mu_elam(elem, energy, kind='photo')\n",
    "    mu_incoh = mu_elam(elem, energy, kind='incoh')\n",
    "    mu_coher = mu_elam(elem, energy, kind='coh')\n",
    "\n",
    "\n",
    "    ax = axs[i]\n",
    "\n",
    "    ax.set_title(f'X-ray mass attenuation for {elem}')\n",
    "    ax.plot(energy_keV, mu_total, linewidth=2, label='Total', alpha=0.5)\n",
    "    ax.plot(energy_keV, mu_photo, linewidth=2, label='Photo-electric', alpha=0.5)\n",
    "    ax.plot(energy_keV, mu_incoh, linewidth=2, label='Incoherent', alpha=0.5)\n",
    "    ax.plot(energy_keV, mu_coher, linewidth=2, label='Coherent', alpha=0.5)\n",
    "\n",
    "    ax.set_xlabel('Energy (keV)')\n",
    "    ax.set_ylabel(r'$\\mu/\\rho \\rm\\, (cm^2/gr)$')\n",
    "    #ax.legend()\n",
    "    ax.set_yscale('log')\n",
    "    \n",
    "axs[0].legend();"
   ]
  },
  {
   "cell_type": "markdown",
   "metadata": {},
   "source": [
    "I would like to see how scattering depends on atomic number $Z$."
   ]
  },
  {
   "cell_type": "code",
   "execution_count": null,
   "metadata": {},
   "outputs": [
    {
     "name": "stdout",
     "output_type": "stream",
     "text": [
      "['H', 'He', 'Li', 'Be', 'B', 'C', 'N', 'O', 'F', 'Ne', 'Na', 'Mg', 'Al', 'Si', 'P', 'S', 'Cl', 'Ar', 'K', 'Ca', 'Sc', 'Ti', 'V', 'Cr', 'Mn', 'Fe', 'Co', 'Ni', 'Cu', 'Zn', 'Ga', 'Ge', 'As', 'Se', 'Br', 'Kr', 'Rb', 'Sr', 'Y', 'Zr', 'Nb', 'Mo', 'Tc', 'Ru', 'Rh', 'Pd', 'Ag', 'Cd', 'In', 'Sn', 'Sb', 'Te', 'I', 'Xe', 'Cs', 'Ba', 'La', 'Ce', 'Pr', 'Nd', 'Pm', 'Sm', 'Eu', 'Gd', 'Tb', 'Dy', 'Ho', 'Er', 'Tm', 'Yb', 'Lu', 'Hf', 'Ta', 'W', 'Re', 'Os', 'Ir', 'Pt', 'Au', 'Hg', 'Tl', 'Pb']\n"
     ]
    }
   ],
   "source": [
    "Z0 = xraydb.atomic_number('H')\n",
    "Z1 = xraydb.atomic_number('Pb') + 1\n",
    "element_list = [xraydb.atomic_symbol(Z) for Z in range(Z0, Z1)]\n",
    "print(element_list)"
   ]
  },
  {
   "cell_type": "code",
   "execution_count": null,
   "metadata": {},
   "outputs": [
    {
     "name": "stdout",
     "output_type": "stream",
     "text": [
      "['H', 'He', 'Li', 'Be', 'B', 'C', 'N', 'O', 'F', 'Ne', 'Na', 'Mg', 'Al', 'Si', 'P', 'S', 'Cl', 'Ar', 'K', 'Ca', 'Sc', 'Ti', 'V', 'Cr', 'Mn', 'Fe', 'Co', 'Ni', 'Cu', 'Zn', 'Ga', 'Ge', 'As', 'Se', 'Br', 'Kr', 'Rb', 'Sr', 'Y', 'Zr', 'Nb', 'Mo', 'Tc', 'Ru', 'Rh', 'Pd', 'Ag', 'Cd', 'In', 'Sn', 'Sb', 'Te', 'I', 'Xe', 'Cs', 'Ba', 'La', 'Ce', 'Pr', 'Nd', 'Pm', 'Sm', 'Eu', 'Gd', 'Tb', 'Dy', 'Ho', 'Er', 'Tm', 'Yb', 'Lu', 'Hf', 'Ta', 'W', 'Re', 'Os', 'Ir', 'Pt', 'Au', 'Hg', 'Tl', 'Pb']\n"
     ]
    }
   ],
   "source": [
    "energy = np.arange(500, 25000, 10)  # energy in eV\n",
    "energy_keV = energy / 1000  \n",
    "\n",
    "elements = element_list\n",
    "\n",
    "print(elements)"
   ]
  },
  {
   "cell_type": "code",
   "execution_count": null,
   "metadata": {},
   "outputs": [],
   "source": [
    "mu_incoh_list = []\n",
    "mu_coh_list = []\n",
    "mu_photo_list = []\n",
    "\n",
    "for elem in elements: \n",
    "    \n",
    "    mu_incoh = xraydb.mu_elam(elem, energy, kind='incoh')\n",
    "    mu_incoh_list.append(mu_incoh)\n",
    "    \n",
    "    mu_coh = xraydb.mu_elam(elem, energy, kind='coh')\n",
    "    mu_coh_list.append(mu_coh)\n",
    "    \n",
    "    mu_photo = xraydb.mu_elam(elem, energy, kind='photo')\n",
    "    mu_photo_list.append(mu_photo)\n",
    "\n",
    "\n",
    "K = np.array(mu_photo_list)\n",
    "S = np.array(mu_coh_list) + np.array(mu_incoh_list) # ignore Compton shift "
   ]
  },
  {
   "cell_type": "code",
   "execution_count": null,
   "metadata": {},
   "outputs": [],
   "source": [
    "cmap = plt.get_cmap('viridis_r')\n",
    "gradient = np.linspace(0, 1, len(elements))\n",
    "colors = cmap(gradient)"
   ]
  },
  {
   "cell_type": "code",
   "execution_count": null,
   "metadata": {},
   "outputs": [
    {
     "data": {
      "text/html": [
       "..<img src=\"./images/90_xphysics_7d797db205.png\">"
      ]
     },
     "execution_count": null,
     "metadata": {},
     "output_type": "execute_result"
    }
   ],
   "source": [
    "fig, [ax0, ax1, ax2] = plt.subplots(ncols=3, sharex=True, sharey=True, figsize=[9, 4])\n",
    "\n",
    "for i, mu in enumerate(mu_incoh_list): \n",
    "    ax0.plot(energy_keV, mu, label=elements[i], color=colors[i]) \n",
    "    ax0.set_xlabel('energy (keV)')\n",
    "    \n",
    "for i, mu in enumerate(mu_coh_list): \n",
    "    ax1.plot(energy_keV, mu, label=elements[i], color=colors[i])\n",
    "    ax1.set_xlabel('energy (keV)')\n",
    "    \n",
    "for i, mu in enumerate(mu_photo_list): \n",
    "    ax2.plot(energy_keV, mu, label=elements[i], color=colors[i])\n",
    "    ax2.set_xlabel('energy (keV)')\n",
    "\n",
    "ax0.set_title('incoh')    \n",
    "ax1.set_title('coh')    \n",
    "ax2.set_title('photo')  \n",
    "\n",
    "logscale = True \n",
    "if logscale == True:\n",
    "    ax0.set_yscale('log')\n",
    "    ax1.set_yscale('log')\n",
    "    ax2.set_yscale('log')\n",
    "#ax.legend()"
   ]
  },
  {
   "cell_type": "markdown",
   "metadata": {},
   "source": [
    "The question now is if we can explain the lead shadow regions in some of light element peak maps. This problem is essentially combining the effects of scattering and absorption of a translucent layer. To calculate reflectance and transmission properties of such a system we can use the results of Kubelka-Munk theory. \n",
    "\n",
    "Given the relatively small energy shift due to inelastic (incoherent) scattering, we can simplify the problem by summing elastic (coherent) and inelastic (incoherent) scattering into a single scattering coefficient $S$. "
   ]
  },
  {
   "cell_type": "code",
   "execution_count": null,
   "metadata": {},
   "outputs": [],
   "source": [
    "def R_inf(K, S): \n",
    "    '''Infinite reflectance from `K` and `S`.\n",
    "    \n",
    "    Calculation with modified Saunderson equation. '''\n",
    "     \n",
    "    Rinf =  (S/K) / ((S/K) + 1 + np.sqrt(1 + 2 * (S/K))) \n",
    "    \n",
    "    return Rinf "
   ]
  },
  {
   "cell_type": "code",
   "execution_count": null,
   "metadata": {},
   "outputs": [],
   "source": [
    "Rinf = R_inf(K, S)"
   ]
  },
  {
   "cell_type": "code",
   "execution_count": null,
   "metadata": {},
   "outputs": [
    {
     "data": {
      "text/plain": [
       "(82, 2450)"
      ]
     },
     "execution_count": null,
     "metadata": {},
     "output_type": "execute_result"
    }
   ],
   "source": [
    "Rinf.shape"
   ]
  },
  {
   "cell_type": "code",
   "execution_count": null,
   "metadata": {},
   "outputs": [
    {
     "data": {
      "text/html": [
       "..<img src=\"./images/90_xphysics_33e84b0c02.png\">"
      ]
     },
     "execution_count": null,
     "metadata": {},
     "output_type": "execute_result"
    }
   ],
   "source": [
    "fig, ax = plt.subplots()\n",
    "\n",
    "extent = [energy_keV.min(), energy_keV.max(), Z0, Z1]\n",
    "\n",
    "im = ax.imshow(Rinf, interpolation='none', origin='lower', aspect=0.3, extent=extent, cmap='Greys_r')\n",
    "\n",
    "fig.colorbar(im, ax=ax)\n",
    "\n",
    "ax.set_title(r'Pure element infinite reflectance $R_{\\infty}$')\n",
    "ax.set_xlabel('Energy (keV)')\n",
    "ax.set_ylabel('Atomic number (Z)'); \n",
    "#ax.set_ylim([0, 20])"
   ]
  },
  {
   "cell_type": "markdown",
   "metadata": {},
   "source": [
    "What we learn here is that the Compton ridge is essentially only due to the abundance of hydrogen in the paper. The scattering of carbon and oxygen can safely be neglected. \n",
    "\n",
    "Next step is the calculation of the transmission of a typical ( $200 ~ g/m^2$) paper... "
   ]
  },
  {
   "cell_type": "code",
   "execution_count": null,
   "metadata": {},
   "outputs": [],
   "source": [
    "mu_paper = xraydb.material_mu('C6H12O6', energy, 0.5)\n",
    "mu_lead = xraydb.material_mu('PbCO3', energy, 20)\n",
    "mu_iron = xraydb.material_mu('Fe', energy, 10)"
   ]
  },
  {
   "cell_type": "code",
   "execution_count": null,
   "metadata": {},
   "outputs": [],
   "source": [
    "d_paper = 0.5 # mm \n",
    "d_lead = 0.001 # mm \n",
    "d_iron = 0.001 # mm \n",
    "\n",
    "T_paper = np.exp(-d_paper * mu_paper)\n",
    "T_lead = np.exp(-d_lead * mu_lead)\n",
    "T_iron = np.exp(-d_iron * mu_iron)"
   ]
  },
  {
   "cell_type": "code",
   "execution_count": null,
   "metadata": {},
   "outputs": [
    {
     "data": {
      "text/html": [
       "..<img src=\"./images/90_xphysics_fdf7ac1bbf.png\">"
      ]
     },
     "execution_count": null,
     "metadata": {},
     "output_type": "execute_result"
    }
   ],
   "source": [
    "fig, ax = plt.subplots(figsize=[9, 4])\n",
    "\n",
    "ax.plot(energy_keV, T_paper, label=f'{d_paper}mm paper')\n",
    "ax.plot(energy_keV, T_lead, label=f'{d_lead}mm lead')\n",
    "ax.plot(energy_keV, T_iron, label=f'{d_iron}mm iron')\n",
    "ax.set_title('Transmission')\n",
    "ax.set_xlabel('energy (keV)')\n",
    "ax.set_ylabel('transmission')\n",
    "ax.legend();"
   ]
  },
  {
   "cell_type": "markdown",
   "metadata": {},
   "source": [
    "So, the one million dollar question now is: what is the expected reflectance of the sandwich? "
   ]
  }
 ],
 "metadata": {
  "kernelspec": {
   "display_name": "Python 3 (ipykernel)",
   "language": "python",
   "name": "python3"
  },
  "language_info": {
   "codemirror_mode": {
    "name": "ipython",
    "version": 3
   },
   "file_extension": ".py",
   "mimetype": "text/x-python",
   "name": "python",
   "nbconvert_exporter": "python",
   "pygments_lexer": "ipython3",
   "version": "3.12.5"
  }
 },
 "nbformat": 4,
 "nbformat_minor": 4
}
