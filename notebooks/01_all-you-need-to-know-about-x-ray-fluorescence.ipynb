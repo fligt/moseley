{
 "cells": [
  {
   "cell_type": "code",
   "execution_count": null,
   "metadata": {},
   "outputs": [],
   "source": [
    "#|default_exp xrf_physics "
   ]
  },
  {
   "cell_type": "markdown",
   "metadata": {},
   "source": [
    "# All you need to know about X-Ray Fluorescence  \n",
    "\n",
    "> Each element has another peak pattern"
   ]
  },
  {
   "cell_type": "markdown",
   "metadata": {},
   "source": [
    "In order to better understand measured X-Ray Fluorescence (XRF) spectra it is most useful to be able to compute the theoretical spectral emission patterns for individual elements. If you are interested in the physics behind this, you can find the gory details in the next section. For now, simply import `ElementXRF()`."
   ]
  },
  {
   "cell_type": "code",
   "execution_count": 2,
   "metadata": {
    "execution": {
     "iopub.execute_input": "2025-10-10T15:31:58.522511Z",
     "iopub.status.busy": "2025-10-10T15:31:58.522044Z",
     "iopub.status.idle": "2025-10-10T15:31:58.525357Z",
     "shell.execute_reply": "2025-10-10T15:31:58.524732Z",
     "shell.execute_reply.started": "2025-10-10T15:31:58.522489Z"
    }
   },
   "outputs": [],
   "source": [
    "from moseley import ElementXRF"
   ]
  },
  {
   "cell_type": "code",
   "execution_count": 16,
   "metadata": {
    "execution": {
     "iopub.execute_input": "2025-10-10T15:41:45.656046Z",
     "iopub.status.busy": "2025-10-10T15:41:45.655587Z",
     "iopub.status.idle": "2025-10-10T15:41:45.795540Z",
     "shell.execute_reply": "2025-10-10T15:41:45.795181Z",
     "shell.execute_reply.started": "2025-10-10T15:41:45.656025Z"
    }
   },
   "outputs": [
    {
     "data": {
      "text/plain": [
       "(0.0, 20.0)"
      ]
     },
     "execution_count": 16,
     "metadata": {},
     "output_type": "execute_result"
    },
    {
     "data": {
      "image/png": "[encoded data removed]",
      "text/plain": [
       "<Figure size 640x480 with 1 Axes>"
      ]
     },
     "metadata": {},
     "output_type": "display_data"
    }
   ],
   "source": [
    "#|echo: false \n",
    "Pb_xrf = ElementXRF('Pb')\n",
    "\n",
    "ax = Pb_xrf.plot_spectrum(color='r')\n",
    "ax.set_title('Theoretical X-Ray Fluorescence for Pb') \n",
    "ax.set_xlim([0, 20]); \n"
   ]
  },
  {
   "cell_type": "markdown",
   "metadata": {},
   "source": [
    "## FUNCTIONS "
   ]
  },
  {
   "cell_type": "code",
   "execution_count": 7,
   "metadata": {
    "execution": {
     "iopub.execute_input": "2025-10-10T15:36:53.276905Z",
     "iopub.status.busy": "2025-10-10T15:36:53.276413Z",
     "iopub.status.idle": "2025-10-10T15:36:53.279920Z",
     "shell.execute_reply": "2025-10-10T15:36:53.279320Z",
     "shell.execute_reply.started": "2025-10-10T15:36:53.276876Z"
    }
   },
   "outputs": [],
   "source": [
    "#|export \n",
    "\n",
    "import numpy as np \n",
    "import xraydb \n",
    "import pandas as pd \n",
    "import scipy.signal as ssg \n",
    "import scipy.interpolate as sip"
   ]
  },
  {
   "cell_type": "code",
   "execution_count": 10,
   "metadata": {
    "execution": {
     "iopub.execute_input": "2025-10-10T15:38:39.679896Z",
     "iopub.status.busy": "2025-10-10T15:38:39.679451Z",
     "iopub.status.idle": "2025-10-10T15:38:39.694208Z",
     "shell.execute_reply": "2025-10-10T15:38:39.693620Z",
     "shell.execute_reply.started": "2025-10-10T15:38:39.679875Z"
    }
   },
   "outputs": [],
   "source": [
    "#|export \n",
    "\n",
    "class ElementXRF(): \n",
    "    '''Computes fluorescence emission line energies and intensities for `element`. \n",
    "    \n",
    "    '''\n",
    "    \n",
    "    def __init__(self, element, excitation_energy_keV=None, tube_anode='Rh', x_keVs=None, std=0.01, min_prom=0.001): \n",
    "\n",
    "        ### LINES ### \n",
    "\n",
    "        if (excitation_energy_keV is None) and (tube_anode=='Rh'): \n",
    "            excitation_energy_keV = 23 \n",
    "\n",
    "        excitation_energy = 1000 * excitation_energy_keV # keV -> eV \n",
    "\n",
    "        lines = xraydb.xray_lines(element, excitation_energy=excitation_energy) \n",
    "\n",
    "        line_names = [] # Siegbahn notation\n",
    "        line_labels = [] # IUPAC notation \n",
    "        line_energies = [] \n",
    "        line_probabilities = [] \n",
    "\n",
    "        line_fluo_yields = []\n",
    "        line_jump_coeffs = [] \n",
    "        line_intensities = []\n",
    "        \n",
    "        for name, line in lines.items(): \n",
    "\n",
    "            # xraydb 'intensities' (a.k.a. transition probablities) sum up to unity within each level \n",
    "            energy, probability, initial_level, final_level = line  \n",
    "            label = f'{element}_{initial_level}{final_level}' #  construct IUPAC notation \n",
    "            \n",
    "            # get corresponding edge properties \n",
    "            edge = initial_level # IUPAC notation!  e.g. 'L1', not 'La'\n",
    "            edge_energy, fluo_yield, jump_ratio = xraydb.xray_edge(element, edge) \n",
    "            jump_coeff = (jump_ratio - 1) / jump_ratio # see Volker Thomsen \n",
    "            #print(f'{name}: {energy}; jump_coeff: {jump_coeff:.03f}; fluo_yield: {fluo_yield}')\n",
    "\n",
    "            # multiplying edge jump coefficient, transition probability and fluorescence yield... \n",
    "            intensity = jump_coeff * probability * fluo_yield \n",
    "\n",
    "            line_names.append(name) \n",
    "            line_labels.append(label)\n",
    "            line_energies.append(energy / 1000)\n",
    "            line_probabilities.append(probability)  \n",
    "            \n",
    "            line_fluo_yields.append(fluo_yield)\n",
    "            line_jump_coeffs.append(jump_coeff) \n",
    "            line_intensities.append(intensity) \n",
    "\n",
    "        self.lines_table = pd.DataFrame({'name': line_names, \n",
    "                                         'label': line_labels, \n",
    "                                         'energy': line_energies, \n",
    "                                         'trans_prob': line_probabilities, \n",
    "                                         'fluo_yield': line_fluo_yields, \n",
    "                                         'jump_coeff': line_jump_coeffs, \n",
    "                                         'intensity': line_intensities}) \n",
    "\n",
    "    \n",
    "        ### CONTINUOUS ### \n",
    "        \n",
    "        self.spectrum_xy = gaussian_convolve(line_energies, line_intensities, x_keVs=x_keVs, std=std) \n",
    "        self.peaks_xy = find_peaks(*self.spectrum_xy, min_prom=min_prom) \n",
    "\n",
    "    def plot_spectrum(self, ax=None, color=None, vlines_colors=None): \n",
    "        \n",
    "        ax = plot_spectrum(self, ax=ax, color=color, vlines_colors=vlines_colors)\n",
    "        \n",
    "        return ax \n",
    "\n",
    "            \n",
    "    \n",
    "def get_element_spectra(elements, x_keVs, excitation_energy_keV): \n",
    "    '''Compute theoretical emission spectrum for multiple elements. \n",
    "    \n",
    "    Sorts elements according to largest (alpha) peak. Based on xraydb. \n",
    "    \n",
    "    Returns: elements, element_spectra\n",
    "    '''\n",
    "\n",
    "    n_channels = len(x_keVs)\n",
    "    n_elements = len(elements)\n",
    "\n",
    "    element_spectra = np.zeros([n_elements, n_channels]) \n",
    "\n",
    "    for i, elem in enumerate(elements): \n",
    "        element_spectra[i] = get_element_spectrum(elem, excitation_energy_keV, x_keVs=x_keVs)\n",
    "\n",
    "        # normalize\n",
    "        element_spectra[i] = element_spectra[i] / element_spectra[i].max()\n",
    "\n",
    "\n",
    "    # sort according to energy of largest (=alpha) peak\n",
    "    alpha_idxs = np.argmax(element_spectra, axis=1)\n",
    "    alpha_order = np.argsort(alpha_idxs) \n",
    "\n",
    "    elements = [elements[i] for i in alpha_order]\n",
    "    element_spectra = element_spectra[alpha_order]\n",
    "    \n",
    "    return elements, element_spectra \n",
    "\n",
    "\n",
    "def gaussian_convolve(peak_energies, peak_intensities, x_keVs=None, std=0.01): \n",
    "    '''Convolves line spectrum defined by `peak_energies` and `peak_intensities` \n",
    "    \n",
    "    with a Gaussian peak shape.'''\n",
    "    \n",
    "    if x_keVs is None: \n",
    "        x_keVs = np.linspace(0, 40, 10000)\n",
    "\n",
    "    y_spectrum = np.zeros_like(x_keVs) \n",
    "\n",
    "    for peak_energy, peak_intensity in zip(peak_energies, peak_intensities): \n",
    "\n",
    "        y_spectrum += peak_intensity * np.exp(-(1 / std) * (x_keVs - peak_energy)**2)\n",
    "        \n",
    "    return x_keVs, y_spectrum  \n",
    "\n",
    "def find_peaks(x, y, min_prom=0.001):  \n",
    "    '''Find peaks in spectrum `x`, `y` with minimal prominence `min_prom=`\n",
    "    \n",
    "    Returns: peaks_xy''' \n",
    "    \n",
    "    # find the peaks (channel indexes) \n",
    "    peaks, props = ssg.find_peaks(y, prominence=[min_prom, None])\n",
    "\n",
    "    peaks_x = x[peaks]\n",
    "    peaks_y = y[peaks] \n",
    "    \n",
    "    # sort according to peak_height \n",
    "    sort_idxs = np.argsort(peaks_y)[::-1] \n",
    "\n",
    "    peaks_x = peaks_x[sort_idxs]\n",
    "    peaks_y = peaks_y[sort_idxs]\n",
    "    peaks_xy = [peaks_x, peaks_y]\n",
    "\n",
    "    return peaks_xy \n",
    "\n",
    "\n",
    "def plot_spectrum(element_xrf, ax=None, color=None, vlines_colors=None): \n",
    "\n",
    "    if ax is None: \n",
    "        fig, ax = plt.subplots() \n",
    "\n",
    "    x, y = element_xrf.spectrum_xy \n",
    "    peaks_x, peaks_y = element_xrf.peaks_xy\n",
    "\n",
    "    ax.plot(x, y, color=color)\n",
    "    ax.scatter(peaks_x[0], peaks_y[0], marker='s', facecolor='w', edgecolor=color, zorder=10)  \n",
    "    ax.scatter(peaks_x[1:], peaks_y[1:], marker='o', facecolor='w', edgecolor=color, zorder=10)\n",
    "\n",
    "    # need to interpolate spectrum to add vlines \n",
    "\n",
    "    spectrum = sip.interp1d(x, y)\n",
    "    line_keVs = element_xrf.lines_table['energy'] \n",
    "\n",
    "    line_heights = spectrum(line_keVs)\n",
    "\n",
    "    ax.vlines(line_keVs, np.zeros_like(line_keVs), line_heights, colors=vlines_colors) \n",
    "    \n",
    "    return ax \n",
    "        \n",
    "    "
   ]
  },
  {
   "cell_type": "code",
   "execution_count": 116,
   "metadata": {
    "execution": {
     "iopub.execute_input": "2025-10-10T14:48:22.135287Z",
     "iopub.status.busy": "2025-10-10T14:48:22.135048Z",
     "iopub.status.idle": "2025-10-10T14:48:22.154597Z",
     "shell.execute_reply": "2025-10-10T14:48:22.154158Z",
     "shell.execute_reply.started": "2025-10-10T14:48:22.135276Z"
    }
   },
   "outputs": [],
   "source": [
    "%matplotlib widget"
   ]
  },
  {
   "cell_type": "code",
   "execution_count": 127,
   "metadata": {
    "execution": {
     "iopub.execute_input": "2025-10-10T15:18:54.728795Z",
     "iopub.status.busy": "2025-10-10T15:18:54.728378Z",
     "iopub.status.idle": "2025-10-10T15:18:54.806499Z",
     "shell.execute_reply": "2025-10-10T15:18:54.806129Z",
     "shell.execute_reply.started": "2025-10-10T15:18:54.728775Z"
    }
   },
   "outputs": [
    {
     "data": {
      "application/vnd.jupyter.widget-view+json": {
       "model_id": "a25f857a6eac43cbbdc58f1e87143cb5",
       "version_major": 2,
       "version_minor": 0
      },
      "image/png": "[encoded data removed]",
      "text/html": [
       "\n",
       "            <div style=\"display: inline-block;\">\n",
       "                <div class=\"jupyter-widgets widget-label\" style=\"text-align: center;\">\n",
       "                    Figure\n",
       "                </div>\n",
       "                <img src='data:image/png;base64,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' width=640.0/>\n",
       "            </div>\n",
       "        "
      ],
      "text/plain": [
       "Canvas(toolbar=Toolbar(toolitems=[('Home', 'Reset original view', 'home', 'home'), ('Back', 'Back to previous …"
      ]
     },
     "metadata": {},
     "output_type": "display_data"
    }
   ],
   "source": [
    "ax = plot_spectrum(element_xrf, color='r', vlines_colors='r')"
   ]
  },
  {
   "cell_type": "code",
   "execution_count": 123,
   "metadata": {
    "execution": {
     "iopub.execute_input": "2025-10-10T15:16:15.567354Z",
     "iopub.status.busy": "2025-10-10T15:16:15.566767Z",
     "iopub.status.idle": "2025-10-10T15:16:15.572494Z",
     "shell.execute_reply": "2025-10-10T15:16:15.571845Z",
     "shell.execute_reply.started": "2025-10-10T15:16:15.567332Z"
    }
   },
   "outputs": [],
   "source": [
    "def plot_spectrum(element_xrf, ax=None, color=None, vlines_colors=None): \n",
    "\n",
    "    if ax is None: \n",
    "        fig, ax = plt.subplots() \n",
    "\n",
    "    x, y = element_xrf.spectrum_xy \n",
    "    peaks_x, peaks_y = element_xrf.peaks_xy\n",
    "\n",
    "    ax.plot(x, y, color=color)\n",
    "    ax.scatter(peaks_x[0], peaks_y[0], marker='s', facecolor='w', edgecolor=color, zorder=10)  \n",
    "    ax.scatter(peaks_x[1:], peaks_y[1:], marker='o', facecolor='w', edgecolor=color, zorder=10)\n",
    "\n",
    "    # need to interpolate spectrum to add vlines \n",
    "\n",
    "    spectrum = sip.interp1d(x, y)\n",
    "    line_keVs = element_xrf.lines_table['energy'] \n",
    "\n",
    "    line_heights = spectrum(line_keVs)\n",
    "\n",
    "    ax.vlines(line_keVs, np.zeros_like(line_keVs), line_heights, colors=vlines_colors) \n",
    "    \n",
    "    return ax \n",
    "        \n",
    "\n",
    "\n",
    "    "
   ]
  },
  {
   "cell_type": "code",
   "execution_count": 113,
   "metadata": {
    "execution": {
     "iopub.execute_input": "2025-10-10T14:43:08.105656Z",
     "iopub.status.busy": "2025-10-10T14:43:08.105406Z",
     "iopub.status.idle": "2025-10-10T14:43:08.110582Z",
     "shell.execute_reply": "2025-10-10T14:43:08.110045Z",
     "shell.execute_reply.started": "2025-10-10T14:43:08.105635Z"
    }
   },
   "outputs": [
    {
     "data": {
      "text/plain": [
       "0     12.3070\n",
       "1     12.7950\n",
       "2     15.0991\n",
       "3     15.2175\n",
       "4     11.3490\n",
       "5     12.6140\n",
       "6     14.7657\n",
       "7     15.1793\n",
       "8      9.1840\n",
       "9     10.4490\n",
       "10    10.5510\n",
       "11    12.1432\n",
       "12    12.6007\n",
       "13    13.0143\n",
       "14     2.6538\n",
       "15     2.4443\n",
       "16     2.3423\n",
       "Name: energy, dtype: float64"
      ]
     },
     "execution_count": 113,
     "metadata": {},
     "output_type": "execute_result"
    }
   ],
   "source": [
    "element_xrf.lines_table['energy'] \n"
   ]
  },
  {
   "cell_type": "code",
   "execution_count": 86,
   "metadata": {
    "execution": {
     "iopub.execute_input": "2025-10-10T12:01:46.916443Z",
     "iopub.status.busy": "2025-10-10T12:01:46.915981Z",
     "iopub.status.idle": "2025-10-10T12:01:46.930296Z",
     "shell.execute_reply": "2025-10-10T12:01:46.929633Z",
     "shell.execute_reply.started": "2025-10-10T12:01:46.916422Z"
    }
   },
   "outputs": [
    {
     "ename": "IndentationError",
     "evalue": "unexpected indent (3795719893.py, line 130)",
     "output_type": "error",
     "traceback": [
      "\u001b[0;36m  Cell \u001b[0;32mIn[86], line 130\u001b[0;36m\u001b[0m\n\u001b[0;31m    self.peak_intensities = self.total_spectrum[peaks]\u001b[0m\n\u001b[0m    ^\u001b[0m\n\u001b[0;31mIndentationError\u001b[0m\u001b[0;31m:\u001b[0m unexpected indent\n"
     ]
    }
   ],
   "source": [
    "    \n",
    "        self.peak_intensities = self.total_spectrum[peaks] \n",
    "        \n",
    "        # find indices of nearest excitations \n",
    "        # corrected bug with .values \n",
    "        nearest = np.argmin((self.lines_df['energy'].values[:, None] - self.peak_energies[None, :])**2, axis=0)  \n",
    "        self.peak_excits = list(self.lines_df.index[nearest])\n",
    "        \n",
    "    \n",
    "\n",
    "    # sort according to peak height \n",
    "    sorting_idxs = np.argsort(y[peak\n",
    "    \n",
    "    return peak_idxs, props\n",
    "       "
   ]
  },
  {
   "cell_type": "code",
   "execution_count": 92,
   "metadata": {
    "execution": {
     "iopub.execute_input": "2025-10-10T14:21:53.015206Z",
     "iopub.status.busy": "2025-10-10T14:21:53.014953Z",
     "iopub.status.idle": "2025-10-10T14:21:53.020036Z",
     "shell.execute_reply": "2025-10-10T14:21:53.019451Z",
     "shell.execute_reply.started": "2025-10-10T14:21:53.015186Z"
    }
   },
   "outputs": [
    {
     "data": {
      "text/plain": [
       "[array([10.54505451, 12.60926093, 14.76547655,  2.36423642,  9.18491849,\n",
       "        15.17751775, 12.30123012, 13.01330133, 11.34913491]),\n",
       " array([0.15392372, 0.1204257 , 0.0176001 , 0.01608584, 0.00820976,\n",
       "        0.00589389, 0.0053041 , 0.00475172, 0.00193063])]"
      ]
     },
     "execution_count": 92,
     "metadata": {},
     "output_type": "execute_result"
    }
   ],
   "source": [
    "find_peaks(x, y)"
   ]
  },
  {
   "cell_type": "code",
   "execution_count": 76,
   "metadata": {
    "execution": {
     "iopub.execute_input": "2025-10-10T11:42:08.326140Z",
     "iopub.status.busy": "2025-10-10T11:42:08.325571Z",
     "iopub.status.idle": "2025-10-10T11:42:08.330126Z",
     "shell.execute_reply": "2025-10-10T11:42:08.329517Z",
     "shell.execute_reply.started": "2025-10-10T11:42:08.326119Z"
    }
   },
   "outputs": [
    {
     "data": {
      "text/plain": [
       "array([ 591, 2296, 2636, 2837, 3075, 3152, 3253, 3691, 3794])"
      ]
     },
     "execution_count": 76,
     "metadata": {},
     "output_type": "execute_result"
    }
   ],
   "source": [
    "peaks"
   ]
  },
  {
   "cell_type": "markdown",
   "metadata": {},
   "source": [
    "# More ideas "
   ]
  },
  {
   "cell_type": "markdown",
   "metadata": {},
   "source": [
    "## Absorption and scattering "
   ]
  },
  {
   "cell_type": "markdown",
   "metadata": {},
   "source": [
    "The xraydb documentation gives an example calculation for different mass attenuation cross sections."
   ]
  },
  {
   "cell_type": "code",
   "execution_count": null,
   "metadata": {},
   "outputs": [],
   "source": [
    "import numpy as np\n",
    "import matplotlib.pyplot as plt\n",
    "from xraydb import mu_elam "
   ]
  },
  {
   "cell_type": "code",
   "execution_count": null,
   "metadata": {},
   "outputs": [
    {
     "data": {
      "text/html": [
       "..<img src=\"./images/90_xphysics_ae0c8c48fa.png\">"
      ]
     },
     "execution_count": null,
     "metadata": {},
     "output_type": "execute_result"
    }
   ],
   "source": [
    "energy = np.arange(500, 25000, 10)  # energy in eV\n",
    "energy_keV = energy / 1000 \n",
    "\n",
    "\n",
    "fig, axs = plt.subplots(nrows=2, ncols=2, figsize=[9, 7], sharex=True, sharey=True) \n",
    "axs = axs.flatten()\n",
    "\n",
    "elements = ['C', 'Ca', 'Fe', 'Pb']\n",
    "\n",
    "for i, elem in enumerate(elements):       \n",
    "\n",
    "    mu_total = mu_elam(elem, energy, kind='total')\n",
    "    mu_photo = mu_elam(elem, energy, kind='photo')\n",
    "    mu_incoh = mu_elam(elem, energy, kind='incoh')\n",
    "    mu_coher = mu_elam(elem, energy, kind='coh')\n",
    "\n",
    "\n",
    "    ax = axs[i]\n",
    "\n",
    "    ax.set_title(f'X-ray mass attenuation for {elem}')\n",
    "    ax.plot(energy_keV, mu_total, linewidth=2, label='Total', alpha=0.5)\n",
    "    ax.plot(energy_keV, mu_photo, linewidth=2, label='Photo-electric', alpha=0.5)\n",
    "    ax.plot(energy_keV, mu_incoh, linewidth=2, label='Incoherent', alpha=0.5)\n",
    "    ax.plot(energy_keV, mu_coher, linewidth=2, label='Coherent', alpha=0.5)\n",
    "\n",
    "    ax.set_xlabel('Energy (keV)')\n",
    "    ax.set_ylabel(r'$\\mu/\\rho \\rm\\, (cm^2/gr)$')\n",
    "    #ax.legend()\n",
    "    ax.set_yscale('log')\n",
    "    \n",
    "axs[0].legend();"
   ]
  },
  {
   "cell_type": "markdown",
   "metadata": {},
   "source": [
    "I would like to see how scattering depends on atomic number $Z$."
   ]
  },
  {
   "cell_type": "code",
   "execution_count": null,
   "metadata": {},
   "outputs": [
    {
     "name": "stdout",
     "output_type": "stream",
     "text": [
      "['H', 'He', 'Li', 'Be', 'B', 'C', 'N', 'O', 'F', 'Ne', 'Na', 'Mg', 'Al', 'Si', 'P', 'S', 'Cl', 'Ar', 'K', 'Ca', 'Sc', 'Ti', 'V', 'Cr', 'Mn', 'Fe', 'Co', 'Ni', 'Cu', 'Zn', 'Ga', 'Ge', 'As', 'Se', 'Br', 'Kr', 'Rb', 'Sr', 'Y', 'Zr', 'Nb', 'Mo', 'Tc', 'Ru', 'Rh', 'Pd', 'Ag', 'Cd', 'In', 'Sn', 'Sb', 'Te', 'I', 'Xe', 'Cs', 'Ba', 'La', 'Ce', 'Pr', 'Nd', 'Pm', 'Sm', 'Eu', 'Gd', 'Tb', 'Dy', 'Ho', 'Er', 'Tm', 'Yb', 'Lu', 'Hf', 'Ta', 'W', 'Re', 'Os', 'Ir', 'Pt', 'Au', 'Hg', 'Tl', 'Pb']\n"
     ]
    }
   ],
   "source": [
    "Z0 = xraydb.atomic_number('H')\n",
    "Z1 = xraydb.atomic_number('Pb') + 1\n",
    "element_list = [xraydb.atomic_symbol(Z) for Z in range(Z0, Z1)]\n",
    "print(element_list)"
   ]
  },
  {
   "cell_type": "code",
   "execution_count": null,
   "metadata": {},
   "outputs": [
    {
     "name": "stdout",
     "output_type": "stream",
     "text": [
      "['H', 'He', 'Li', 'Be', 'B', 'C', 'N', 'O', 'F', 'Ne', 'Na', 'Mg', 'Al', 'Si', 'P', 'S', 'Cl', 'Ar', 'K', 'Ca', 'Sc', 'Ti', 'V', 'Cr', 'Mn', 'Fe', 'Co', 'Ni', 'Cu', 'Zn', 'Ga', 'Ge', 'As', 'Se', 'Br', 'Kr', 'Rb', 'Sr', 'Y', 'Zr', 'Nb', 'Mo', 'Tc', 'Ru', 'Rh', 'Pd', 'Ag', 'Cd', 'In', 'Sn', 'Sb', 'Te', 'I', 'Xe', 'Cs', 'Ba', 'La', 'Ce', 'Pr', 'Nd', 'Pm', 'Sm', 'Eu', 'Gd', 'Tb', 'Dy', 'Ho', 'Er', 'Tm', 'Yb', 'Lu', 'Hf', 'Ta', 'W', 'Re', 'Os', 'Ir', 'Pt', 'Au', 'Hg', 'Tl', 'Pb']\n"
     ]
    }
   ],
   "source": [
    "energy = np.arange(500, 25000, 10)  # energy in eV\n",
    "energy_keV = energy / 1000  \n",
    "\n",
    "elements = element_list\n",
    "\n",
    "print(elements)"
   ]
  },
  {
   "cell_type": "code",
   "execution_count": null,
   "metadata": {},
   "outputs": [],
   "source": [
    "mu_incoh_list = []\n",
    "mu_coh_list = []\n",
    "mu_photo_list = []\n",
    "\n",
    "for elem in elements: \n",
    "    \n",
    "    mu_incoh = xraydb.mu_elam(elem, energy, kind='incoh')\n",
    "    mu_incoh_list.append(mu_incoh)\n",
    "    \n",
    "    mu_coh = xraydb.mu_elam(elem, energy, kind='coh')\n",
    "    mu_coh_list.append(mu_coh)\n",
    "    \n",
    "    mu_photo = xraydb.mu_elam(elem, energy, kind='photo')\n",
    "    mu_photo_list.append(mu_photo)\n",
    "\n",
    "\n",
    "K = np.array(mu_photo_list)\n",
    "S = np.array(mu_coh_list) + np.array(mu_incoh_list) # ignore Compton shift "
   ]
  },
  {
   "cell_type": "code",
   "execution_count": null,
   "metadata": {},
   "outputs": [],
   "source": [
    "cmap = plt.get_cmap('viridis_r')\n",
    "gradient = np.linspace(0, 1, len(elements))\n",
    "colors = cmap(gradient)"
   ]
  },
  {
   "cell_type": "code",
   "execution_count": null,
   "metadata": {},
   "outputs": [
    {
     "data": {
      "text/html": [
       "..<img src=\"./images/90_xphysics_7d797db205.png\">"
      ]
     },
     "execution_count": null,
     "metadata": {},
     "output_type": "execute_result"
    }
   ],
   "source": [
    "fig, [ax0, ax1, ax2] = plt.subplots(ncols=3, sharex=True, sharey=True, figsize=[9, 4])\n",
    "\n",
    "for i, mu in enumerate(mu_incoh_list): \n",
    "    ax0.plot(energy_keV, mu, label=elements[i], color=colors[i]) \n",
    "    ax0.set_xlabel('energy (keV)')\n",
    "    \n",
    "for i, mu in enumerate(mu_coh_list): \n",
    "    ax1.plot(energy_keV, mu, label=elements[i], color=colors[i])\n",
    "    ax1.set_xlabel('energy (keV)')\n",
    "    \n",
    "for i, mu in enumerate(mu_photo_list): \n",
    "    ax2.plot(energy_keV, mu, label=elements[i], color=colors[i])\n",
    "    ax2.set_xlabel('energy (keV)')\n",
    "\n",
    "ax0.set_title('incoh')    \n",
    "ax1.set_title('coh')    \n",
    "ax2.set_title('photo')  \n",
    "\n",
    "logscale = True \n",
    "if logscale == True:\n",
    "    ax0.set_yscale('log')\n",
    "    ax1.set_yscale('log')\n",
    "    ax2.set_yscale('log')\n",
    "#ax.legend()"
   ]
  },
  {
   "cell_type": "markdown",
   "metadata": {},
   "source": [
    "The question now is if we can explain the lead shadow regions in some of light element peak maps. This problem is essentially combining the effects of scattering and absorption of a translucent layer. To calculate reflectance and transmission properties of such a system we can use the results of Kubelka-Munk theory. \n",
    "\n",
    "Given the relatively small energy shift due to inelastic (incoherent) scattering, we can simplify the problem by summing elastic (coherent) and inelastic (incoherent) scattering into a single scattering coefficient $S$. "
   ]
  },
  {
   "cell_type": "code",
   "execution_count": null,
   "metadata": {},
   "outputs": [],
   "source": [
    "def R_inf(K, S): \n",
    "    '''Infinite reflectance from `K` and `S`.\n",
    "    \n",
    "    Calculation with modified Saunderson equation. '''\n",
    "     \n",
    "    Rinf =  (S/K) / ((S/K) + 1 + np.sqrt(1 + 2 * (S/K))) \n",
    "    \n",
    "    return Rinf "
   ]
  },
  {
   "cell_type": "code",
   "execution_count": null,
   "metadata": {},
   "outputs": [],
   "source": [
    "Rinf = R_inf(K, S)"
   ]
  },
  {
   "cell_type": "code",
   "execution_count": null,
   "metadata": {},
   "outputs": [
    {
     "data": {
      "text/plain": [
       "(82, 2450)"
      ]
     },
     "execution_count": null,
     "metadata": {},
     "output_type": "execute_result"
    }
   ],
   "source": [
    "Rinf.shape"
   ]
  },
  {
   "cell_type": "code",
   "execution_count": null,
   "metadata": {},
   "outputs": [
    {
     "data": {
      "text/html": [
       "..<img src=\"./images/90_xphysics_33e84b0c02.png\">"
      ]
     },
     "execution_count": null,
     "metadata": {},
     "output_type": "execute_result"
    }
   ],
   "source": [
    "fig, ax = plt.subplots()\n",
    "\n",
    "extent = [energy_keV.min(), energy_keV.max(), Z0, Z1]\n",
    "\n",
    "im = ax.imshow(Rinf, interpolation='none', origin='lower', aspect=0.3, extent=extent, cmap='Greys_r')\n",
    "\n",
    "fig.colorbar(im, ax=ax)\n",
    "\n",
    "ax.set_title(r'Pure element infinite reflectance $R_{\\infty}$')\n",
    "ax.set_xlabel('Energy (keV)')\n",
    "ax.set_ylabel('Atomic number (Z)'); \n",
    "#ax.set_ylim([0, 20])"
   ]
  },
  {
   "cell_type": "markdown",
   "metadata": {},
   "source": [
    "What we learn here is that the Compton ridge is essentially only due to the abundance of hydrogen in the paper. The scattering of carbon and oxygen can safely be neglected. \n",
    "\n",
    "Next step is the calculation of the transmission of a typical ( $200 ~ g/m^2$) paper... "
   ]
  },
  {
   "cell_type": "code",
   "execution_count": null,
   "metadata": {},
   "outputs": [],
   "source": [
    "mu_paper = xraydb.material_mu('C6H12O6', energy, 0.5)\n",
    "mu_lead = xraydb.material_mu('PbCO3', energy, 20)\n",
    "mu_iron = xraydb.material_mu('Fe', energy, 10)"
   ]
  },
  {
   "cell_type": "code",
   "execution_count": null,
   "metadata": {},
   "outputs": [],
   "source": [
    "d_paper = 0.5 # mm \n",
    "d_lead = 0.001 # mm \n",
    "d_iron = 0.001 # mm \n",
    "\n",
    "T_paper = np.exp(-d_paper * mu_paper)\n",
    "T_lead = np.exp(-d_lead * mu_lead)\n",
    "T_iron = np.exp(-d_iron * mu_iron)"
   ]
  },
  {
   "cell_type": "code",
   "execution_count": null,
   "metadata": {},
   "outputs": [
    {
     "data": {
      "text/html": [
       "..<img src=\"./images/90_xphysics_fdf7ac1bbf.png\">"
      ]
     },
     "execution_count": null,
     "metadata": {},
     "output_type": "execute_result"
    }
   ],
   "source": [
    "fig, ax = plt.subplots(figsize=[9, 4])\n",
    "\n",
    "ax.plot(energy_keV, T_paper, label=f'{d_paper}mm paper')\n",
    "ax.plot(energy_keV, T_lead, label=f'{d_lead}mm lead')\n",
    "ax.plot(energy_keV, T_iron, label=f'{d_iron}mm iron')\n",
    "ax.set_title('Transmission')\n",
    "ax.set_xlabel('energy (keV)')\n",
    "ax.set_ylabel('transmission')\n",
    "ax.legend();"
   ]
  },
  {
   "cell_type": "markdown",
   "metadata": {},
   "source": [
    "So, the one million dollar question now is: what is the expected reflectance of the sandwich? "
   ]
  },
  {
   "cell_type": "code",
   "execution_count": null,
   "metadata": {},
   "outputs": [],
   "source": []
  }
 ],
 "metadata": {
  "kernelspec": {
   "display_name": "Python 3 (ipykernel)",
   "language": "python",
   "name": "python3"
  },
  "language_info": {
   "codemirror_mode": {
    "name": "ipython",
    "version": 3
   },
   "file_extension": ".py",
   "mimetype": "text/x-python",
   "name": "python",
   "nbconvert_exporter": "python",
   "pygments_lexer": "ipython3",
   "version": "3.12.9"
  }
 },
 "nbformat": 4,
 "nbformat_minor": 4
}
