{
 "cells": [
  {
   "cell_type": "code",
   "execution_count": null,
   "metadata": {},
   "outputs": [],
   "source": [
    "#|default_exp xrf_physics "
   ]
  },
  {
   "cell_type": "markdown",
   "metadata": {},
   "source": [
    "# Theoretical peak patterns   \n",
    "\n",
    "> Predicting elemental XRF (X-Ray Fluorescence) spectra  "
   ]
  },
  {
   "cell_type": "markdown",
   "metadata": {},
   "source": [
    "In order to unravel measured X-Ray Fluorescence (XRF) spectra it is most useful to be able to compute the theoretical spectral emission patterns for individual elements. As we will see, each chemical element has a unique peak pattern. Let's skip the theoretical background and simply plot such an XRF spectrum.  If you are interested in the physics behind this, you can find the gory details in the next section. For now, simply import `ElementXRF()` and instantiate it for lead **'Pb'**. "
   ]
  },
  {
   "cell_type": "code",
   "execution_count": 1,
   "metadata": {
    "execution": {
     "iopub.execute_input": "2025-10-13T09:21:49.109072Z",
     "iopub.status.busy": "2025-10-13T09:21:49.108896Z",
     "iopub.status.idle": "2025-10-13T09:21:51.447826Z",
     "shell.execute_reply": "2025-10-13T09:21:51.447458Z",
     "shell.execute_reply.started": "2025-10-13T09:21:49.109052Z"
    }
   },
   "outputs": [],
   "source": [
    "from moseley import ElementXRF"
   ]
  },
  {
   "cell_type": "markdown",
   "metadata": {},
   "source": [
    "Plotting a theoretical X-ray fluorescence spectrum can be done with the `.plot_spectrum()` method. "
   ]
  },
  {
   "cell_type": "code",
   "execution_count": 125,
   "metadata": {
    "execution": {
     "iopub.execute_input": "2025-10-16T15:09:13.120388Z",
     "iopub.status.busy": "2025-10-16T15:09:13.119913Z",
     "iopub.status.idle": "2025-10-16T15:09:13.670977Z",
     "shell.execute_reply": "2025-10-16T15:09:13.670573Z",
     "shell.execute_reply.started": "2025-10-16T15:09:13.120366Z"
    }
   },
   "outputs": [
    {
     "data": {
      "image/png": "[encoded data removed]",
      "text/plain": [
       "<Figure size 640x480 with 1 Axes>"
      ]
     },
     "metadata": {},
     "output_type": "display_data"
    }
   ],
   "source": [
    "# instantiate the element XRF \n",
    "Pb_xrf = ElementXRF('Al') \n",
    "\n",
    "# plot the spectrum \n",
    "ax = Pb_xrf.plot_spectrum(facecolor='k', xlim=[1, 17], vlines_colors='r') \n",
    "\n",
    "# add Pb emission pattern below the spectral plot \n",
    "ptrn_dict = Pb_xrf.get_pattern_dict() \n",
    "plot_pattern(ptrn_dict, ax=ax, offset=-0.004, color='k');"
   ]
  },
  {
   "cell_type": "markdown",
   "metadata": {},
   "source": [
    "We can see here that this XRF spectrum (blue with black markers) for lead consists of multiple Gaussian shaped peaks. Most of these peaks are the result of closely spaced emission lines. Each emission line corresponds to a specific transition of an electron between different electron shells. If you want to inspect these transitions in detail you can inspect the `.lines_table` attribute.  "
   ]
  },
  {
   "cell_type": "code",
   "execution_count": 123,
   "metadata": {
    "execution": {
     "iopub.execute_input": "2025-10-13T15:13:06.363479Z",
     "iopub.status.busy": "2025-10-13T15:13:06.363047Z",
     "iopub.status.idle": "2025-10-13T15:13:06.374695Z",
     "shell.execute_reply": "2025-10-13T15:13:06.374079Z",
     "shell.execute_reply.started": "2025-10-13T15:13:06.363458Z"
    }
   },
   "outputs": [
    {
     "data": {
      "text/html": [
       "<div>\n",
       "<style scoped>\n",
       "    .dataframe tbody tr th:only-of-type {\n",
       "        vertical-align: middle;\n",
       "    }\n",
       "\n",
       "    .dataframe tbody tr th {\n",
       "        vertical-align: top;\n",
       "    }\n",
       "\n",
       "    .dataframe thead th {\n",
       "        text-align: right;\n",
       "    }\n",
       "</style>\n",
       "<table border=\"1\" class=\"dataframe\">\n",
       "  <thead>\n",
       "    <tr style=\"text-align: right;\">\n",
       "      <th></th>\n",
       "      <th>name</th>\n",
       "      <th>label</th>\n",
       "      <th>energy</th>\n",
       "      <th>trans_prob</th>\n",
       "      <th>fluo_yield</th>\n",
       "      <th>jump_coeff</th>\n",
       "      <th>intensity</th>\n",
       "    </tr>\n",
       "  </thead>\n",
       "  <tbody>\n",
       "    <tr>\n",
       "      <th>0</th>\n",
       "      <td>Lb4</td>\n",
       "      <td>Pb_L1M2</td>\n",
       "      <td>12.3070</td>\n",
       "      <td>0.338604</td>\n",
       "      <td>0.112000</td>\n",
       "      <td>0.135060</td>\n",
       "      <td>0.005122</td>\n",
       "    </tr>\n",
       "    <tr>\n",
       "      <th>1</th>\n",
       "      <td>Lb3</td>\n",
       "      <td>Pb_L1M3</td>\n",
       "      <td>12.7950</td>\n",
       "      <td>0.401364</td>\n",
       "      <td>0.112000</td>\n",
       "      <td>0.135060</td>\n",
       "      <td>0.006071</td>\n",
       "    </tr>\n",
       "    <tr>\n",
       "      <th>2</th>\n",
       "      <td>Lg2</td>\n",
       "      <td>Pb_L1N2</td>\n",
       "      <td>15.0991</td>\n",
       "      <td>0.114773</td>\n",
       "      <td>0.112000</td>\n",
       "      <td>0.135060</td>\n",
       "      <td>0.001736</td>\n",
       "    </tr>\n",
       "    <tr>\n",
       "      <th>3</th>\n",
       "      <td>Lg3</td>\n",
       "      <td>Pb_L1N3</td>\n",
       "      <td>15.2175</td>\n",
       "      <td>0.145259</td>\n",
       "      <td>0.112000</td>\n",
       "      <td>0.135060</td>\n",
       "      <td>0.002197</td>\n",
       "    </tr>\n",
       "    <tr>\n",
       "      <th>4</th>\n",
       "      <td>Ln</td>\n",
       "      <td>Pb_L2M1</td>\n",
       "      <td>11.3490</td>\n",
       "      <td>0.018116</td>\n",
       "      <td>0.373000</td>\n",
       "      <td>0.285714</td>\n",
       "      <td>0.001931</td>\n",
       "    </tr>\n",
       "    <tr>\n",
       "      <th>5</th>\n",
       "      <td>Lb1</td>\n",
       "      <td>Pb_L2M4</td>\n",
       "      <td>12.6140</td>\n",
       "      <td>0.787801</td>\n",
       "      <td>0.373000</td>\n",
       "      <td>0.285714</td>\n",
       "      <td>0.083957</td>\n",
       "    </tr>\n",
       "    <tr>\n",
       "      <th>6</th>\n",
       "      <td>Lg1</td>\n",
       "      <td>Pb_L2N4</td>\n",
       "      <td>14.7657</td>\n",
       "      <td>0.165149</td>\n",
       "      <td>0.373000</td>\n",
       "      <td>0.285714</td>\n",
       "      <td>0.017600</td>\n",
       "    </tr>\n",
       "    <tr>\n",
       "      <th>7</th>\n",
       "      <td>Lg6</td>\n",
       "      <td>Pb_L2O4</td>\n",
       "      <td>15.1793</td>\n",
       "      <td>0.028934</td>\n",
       "      <td>0.373000</td>\n",
       "      <td>0.285714</td>\n",
       "      <td>0.003083</td>\n",
       "    </tr>\n",
       "    <tr>\n",
       "      <th>8</th>\n",
       "      <td>Ll</td>\n",
       "      <td>Pb_L3M1</td>\n",
       "      <td>9.1840</td>\n",
       "      <td>0.037951</td>\n",
       "      <td>0.360000</td>\n",
       "      <td>0.600958</td>\n",
       "      <td>0.008210</td>\n",
       "    </tr>\n",
       "    <tr>\n",
       "      <th>9</th>\n",
       "      <td>La2</td>\n",
       "      <td>Pb_L3M4</td>\n",
       "      <td>10.4490</td>\n",
       "      <td>0.076339</td>\n",
       "      <td>0.360000</td>\n",
       "      <td>0.600958</td>\n",
       "      <td>0.016516</td>\n",
       "    </tr>\n",
       "    <tr>\n",
       "      <th>10</th>\n",
       "      <td>La1</td>\n",
       "      <td>Pb_L3M5</td>\n",
       "      <td>10.5510</td>\n",
       "      <td>0.683544</td>\n",
       "      <td>0.360000</td>\n",
       "      <td>0.600958</td>\n",
       "      <td>0.147881</td>\n",
       "    </tr>\n",
       "    <tr>\n",
       "      <th>11</th>\n",
       "      <td>Lb6</td>\n",
       "      <td>Pb_L3N1</td>\n",
       "      <td>12.1432</td>\n",
       "      <td>0.010655</td>\n",
       "      <td>0.360000</td>\n",
       "      <td>0.600958</td>\n",
       "      <td>0.002305</td>\n",
       "    </tr>\n",
       "    <tr>\n",
       "      <th>12</th>\n",
       "      <td>Lb2,15</td>\n",
       "      <td>Pb_L3N4,5</td>\n",
       "      <td>12.6007</td>\n",
       "      <td>0.169784</td>\n",
       "      <td>0.360000</td>\n",
       "      <td>0.600958</td>\n",
       "      <td>0.036732</td>\n",
       "    </tr>\n",
       "    <tr>\n",
       "      <th>13</th>\n",
       "      <td>Lb5</td>\n",
       "      <td>Pb_L3O4,5</td>\n",
       "      <td>13.0143</td>\n",
       "      <td>0.021727</td>\n",
       "      <td>0.360000</td>\n",
       "      <td>0.600958</td>\n",
       "      <td>0.004700</td>\n",
       "    </tr>\n",
       "    <tr>\n",
       "      <th>14</th>\n",
       "      <td>Mg</td>\n",
       "      <td>Pb_M3N5</td>\n",
       "      <td>2.6538</td>\n",
       "      <td>1.000000</td>\n",
       "      <td>0.005047</td>\n",
       "      <td>0.137090</td>\n",
       "      <td>0.000692</td>\n",
       "    </tr>\n",
       "    <tr>\n",
       "      <th>15</th>\n",
       "      <td>Mb</td>\n",
       "      <td>Pb_M4N6</td>\n",
       "      <td>2.4443</td>\n",
       "      <td>0.997068</td>\n",
       "      <td>0.031350</td>\n",
       "      <td>0.209486</td>\n",
       "      <td>0.006548</td>\n",
       "    </tr>\n",
       "    <tr>\n",
       "      <th>16</th>\n",
       "      <td>Ma</td>\n",
       "      <td>Pb_M5N6,7</td>\n",
       "      <td>2.3423</td>\n",
       "      <td>1.000000</td>\n",
       "      <td>0.030775</td>\n",
       "      <td>0.430848</td>\n",
       "      <td>0.013259</td>\n",
       "    </tr>\n",
       "  </tbody>\n",
       "</table>\n",
       "</div>"
      ],
      "text/plain": [
       "      name      label   energy  trans_prob  fluo_yield  jump_coeff  intensity\n",
       "0      Lb4    Pb_L1M2  12.3070    0.338604    0.112000    0.135060   0.005122\n",
       "1      Lb3    Pb_L1M3  12.7950    0.401364    0.112000    0.135060   0.006071\n",
       "2      Lg2    Pb_L1N2  15.0991    0.114773    0.112000    0.135060   0.001736\n",
       "3      Lg3    Pb_L1N3  15.2175    0.145259    0.112000    0.135060   0.002197\n",
       "4       Ln    Pb_L2M1  11.3490    0.018116    0.373000    0.285714   0.001931\n",
       "5      Lb1    Pb_L2M4  12.6140    0.787801    0.373000    0.285714   0.083957\n",
       "6      Lg1    Pb_L2N4  14.7657    0.165149    0.373000    0.285714   0.017600\n",
       "7      Lg6    Pb_L2O4  15.1793    0.028934    0.373000    0.285714   0.003083\n",
       "8       Ll    Pb_L3M1   9.1840    0.037951    0.360000    0.600958   0.008210\n",
       "9      La2    Pb_L3M4  10.4490    0.076339    0.360000    0.600958   0.016516\n",
       "10     La1    Pb_L3M5  10.5510    0.683544    0.360000    0.600958   0.147881\n",
       "11     Lb6    Pb_L3N1  12.1432    0.010655    0.360000    0.600958   0.002305\n",
       "12  Lb2,15  Pb_L3N4,5  12.6007    0.169784    0.360000    0.600958   0.036732\n",
       "13     Lb5  Pb_L3O4,5  13.0143    0.021727    0.360000    0.600958   0.004700\n",
       "14      Mg    Pb_M3N5   2.6538    1.000000    0.005047    0.137090   0.000692\n",
       "15      Mb    Pb_M4N6   2.4443    0.997068    0.031350    0.209486   0.006548\n",
       "16      Ma  Pb_M5N6,7   2.3423    1.000000    0.030775    0.430848   0.013259"
      ]
     },
     "execution_count": 123,
     "metadata": {},
     "output_type": "execute_result"
    }
   ],
   "source": [
    "Pb_xrf.lines_table"
   ]
  },
  {
   "cell_type": "markdown",
   "metadata": {},
   "source": [
    "## FUNCTIONS "
   ]
  },
  {
   "cell_type": "code",
   "execution_count": 43,
   "metadata": {
    "execution": {
     "iopub.execute_input": "2025-10-13T12:07:05.075014Z",
     "iopub.status.busy": "2025-10-13T12:07:05.074547Z",
     "iopub.status.idle": "2025-10-13T12:07:05.078122Z",
     "shell.execute_reply": "2025-10-13T12:07:05.077616Z",
     "shell.execute_reply.started": "2025-10-13T12:07:05.074993Z"
    }
   },
   "outputs": [],
   "source": [
    "#|export \n",
    "\n",
    "import numpy as np \n",
    "import xraydb \n",
    "import pandas as pd \n",
    "import scipy.signal as ssg \n",
    "import scipy.interpolate as sip\n",
    "import matplotlib.pyplot as plt\n",
    "import matplotlib.cm as cm\n",
    "import mendeleev"
   ]
  },
  {
   "cell_type": "code",
   "execution_count": 107,
   "metadata": {
    "execution": {
     "iopub.execute_input": "2025-10-13T14:39:12.385058Z",
     "iopub.status.busy": "2025-10-13T14:39:12.384684Z",
     "iopub.status.idle": "2025-10-13T14:39:12.402073Z",
     "shell.execute_reply": "2025-10-13T14:39:12.401488Z",
     "shell.execute_reply.started": "2025-10-13T14:39:12.385046Z"
    }
   },
   "outputs": [],
   "source": [
    "#|export \n",
    "\n",
    "class ElementXRF(): \n",
    "    '''Computes fluorescence emission line energies and intensities for `element`. \n",
    "    \n",
    "    '''\n",
    "    \n",
    "    def __init__(self, element, excitation_energy_keV=None, tube_anode='Rh', x_keVs=None, std=0.01, min_prom=0.001): \n",
    "        \n",
    "\n",
    "        ### LINES ### \n",
    "\n",
    "        if (excitation_energy_keV is None) and (tube_anode=='Rh'): \n",
    "            excitation_energy_keV = 23 \n",
    "\n",
    "        self.element = element \n",
    "\n",
    "        excitation_energy = 1000 * excitation_energy_keV # keV -> eV \n",
    "\n",
    "        lines = xraydb.xray_lines(element, excitation_energy=excitation_energy) \n",
    "\n",
    "        line_names = [] # Siegbahn notation\n",
    "        line_labels = [] # IUPAC notation \n",
    "        line_energies = [] \n",
    "        line_probabilities = [] \n",
    "\n",
    "        line_fluo_yields = []\n",
    "        line_jump_coeffs = [] \n",
    "        line_intensities = []\n",
    "        \n",
    "        for name, line in lines.items(): \n",
    "\n",
    "            # xraydb 'intensities' (a.k.a. transition probablities) sum up to unity within each level \n",
    "            energy, probability, initial_level, final_level = line  \n",
    "            label = f'{element}_{initial_level}{final_level}' #  construct IUPAC notation \n",
    "            \n",
    "            # get corresponding edge properties \n",
    "            edge = initial_level # IUPAC notation!  e.g. 'L1', not 'La'\n",
    "            edge_energy, fluo_yield, jump_ratio = xraydb.xray_edge(element, edge) \n",
    "            jump_coeff = (jump_ratio - 1) / jump_ratio # see Volker Thomsen \n",
    "            #print(f'{name}: {energy}; jump_coeff: {jump_coeff:.03f}; fluo_yield: {fluo_yield}')\n",
    "\n",
    "            # multiplying edge jump coefficient, transition probability and fluorescence yield... \n",
    "            intensity = jump_coeff * probability * fluo_yield \n",
    "\n",
    "            line_names.append(name) \n",
    "            line_labels.append(label)\n",
    "            line_energies.append(energy / 1000)\n",
    "            line_probabilities.append(probability)  \n",
    "            \n",
    "            line_fluo_yields.append(fluo_yield)\n",
    "            line_jump_coeffs.append(jump_coeff) \n",
    "            line_intensities.append(intensity) \n",
    "\n",
    "        self.lines_table = pd.DataFrame({'name': line_names, \n",
    "                                         'label': line_labels, \n",
    "                                         'energy': line_energies, \n",
    "                                         'trans_prob': line_probabilities, \n",
    "                                         'fluo_yield': line_fluo_yields, \n",
    "                                         'jump_coeff': line_jump_coeffs, \n",
    "                                         'intensity': line_intensities}) \n",
    "\n",
    "    \n",
    "        ### CONTINUOUS ### \n",
    "        \n",
    "        self.spectrum_xy = gaussian_convolve(line_energies, line_intensities, x_keVs=x_keVs, std=std) \n",
    "        self.peaks_xy = find_peaks(*self.spectrum_xy, min_prom=min_prom) \n",
    "\n",
    "    def plot_spectrum(self, ax=None, edgecolor=None, facecolor=None, vlines_colors=None, xlim=[0, 25]): \n",
    "        \n",
    "        if edgecolor is None: \n",
    "            edgecolor = cm.tab20(0)\n",
    "        if facecolor is None: \n",
    "            facecolor = 'w' \n",
    "    \n",
    "        if ax is None: \n",
    "            fig, ax = plt.subplots() \n",
    "    \n",
    "        x, y = self.spectrum_xy \n",
    "        peaks_x, peaks_y = self.peaks_xy.T\n",
    "    \n",
    "        ax.plot(x, y, color=edgecolor, zorder=9)\n",
    "        ax.scatter(peaks_x[0], peaks_y[0], marker='s', facecolor=facecolor, edgecolor=edgecolor, zorder=10)  \n",
    "        ax.scatter(peaks_x[1:], peaks_y[1:], marker='o', facecolor=facecolor, edgecolor=edgecolor, zorder=10)\n",
    "    \n",
    "        # need to interpolate spectrum to add vlines \n",
    "    \n",
    "        spectrum = sip.interp1d(x, y)\n",
    "        line_keVs = self.lines_table['energy'] \n",
    "    \n",
    "        line_heights = spectrum(line_keVs)\n",
    "    \n",
    "        ax.vlines(line_keVs, np.zeros_like(line_keVs), line_heights, colors=vlines_colors, alpha=0.5, zorder=8) \n",
    "\n",
    "        ax.set_title(f'Theoretical X-Ray Fluorescence for {self.element}') \n",
    "        ax.set_xlabel('Energy (keV)')\n",
    "        ax.set_xlim(xlim)\n",
    "        \n",
    "        return ax \n",
    "\n",
    "    def get_pattern_dict(self): \n",
    "    \n",
    "        alpha_keV = float(self.peaks_xy[0][0])\n",
    "        alpha_escape_keV = alpha_keV - 1.74  # Silicon detector escape energy shift \n",
    "        \n",
    "        # element   \n",
    "        elem = self.element\n",
    "        name = mendeleev.element(elem).name\n",
    "        atomic_number = mendeleev.element(elem).atomic_number\n",
    "        \n",
    "        ptrn_dict = {'elem': elem,  \n",
    "                     'atomic_number': atomic_number, \n",
    "                     'alpha_keV': alpha_keV, \n",
    "                     'name': name, \n",
    "                     'peaks_xy': self.peaks_xy, \n",
    "                     'alpha_escape_keV': alpha_escape_keV} \n",
    "        \n",
    "        return ptrn_dict\n",
    "    \n",
    "def get_element_spectra(elements, x_keVs, excitation_energy_keV): \n",
    "    '''Compute theoretical emission spectrum for multiple elements. \n",
    "    \n",
    "    Sorts elements according to largest (alpha) peak. Based on xraydb. \n",
    "    \n",
    "    Returns: elements, element_spectra\n",
    "    '''\n",
    "\n",
    "    n_channels = len(x_keVs)\n",
    "    n_elements = len(elements)\n",
    "\n",
    "    element_spectra = np.zeros([n_elements, n_channels]) \n",
    "\n",
    "    for i, elem in enumerate(elements): \n",
    "        element_spectra[i] = get_element_spectrum(elem, excitation_energy_keV, x_keVs=x_keVs)\n",
    "\n",
    "        # normalize\n",
    "        element_spectra[i] = element_spectra[i] / element_spectra[i].max()\n",
    "\n",
    "\n",
    "    # sort according to energy of largest (=alpha) peak\n",
    "    alpha_idxs = np.argmax(element_spectra, axis=1)\n",
    "    alpha_order = np.argsort(alpha_idxs) \n",
    "\n",
    "    elements = [elements[i] for i in alpha_order]\n",
    "    element_spectra = element_spectra[alpha_order]\n",
    "    \n",
    "    return elements, element_spectra \n",
    "\n",
    "\n",
    "def gaussian_convolve(peak_energies, peak_intensities, x_keVs=None, std=0.01): \n",
    "    '''Convolves line spectrum defined by `peak_energies` and `peak_intensities` \n",
    "    \n",
    "    with a Gaussian peak shape.'''\n",
    "    \n",
    "    if x_keVs is None: \n",
    "        x_keVs = np.linspace(0, 40, 10000)\n",
    "\n",
    "    y_spectrum = np.zeros_like(x_keVs) \n",
    "\n",
    "    for peak_energy, peak_intensity in zip(peak_energies, peak_intensities): \n",
    "\n",
    "        y_spectrum += peak_intensity * np.exp(-(1 / std) * (x_keVs - peak_energy)**2)\n",
    "        \n",
    "    return x_keVs, y_spectrum  \n",
    "\n",
    "def find_peaks(x, y, min_prom=0.001):  \n",
    "    '''Find peaks in spectrum `x`, `y` with minimal prominence `min_prom=`\n",
    "    \n",
    "    Returns: peaks_xy''' \n",
    "    \n",
    "    # find the peaks (channel indexes) \n",
    "    peaks, props = ssg.find_peaks(y, prominence=[min_prom, None])\n",
    "\n",
    "    peaks_x = x[peaks]\n",
    "    peaks_y = y[peaks] \n",
    "    \n",
    "    # sort according to peak_height \n",
    "    sort_idxs = np.argsort(peaks_y)[::-1] \n",
    "\n",
    "    peaks_x = peaks_x[sort_idxs]\n",
    "    peaks_y = peaks_y[sort_idxs]\n",
    "    \n",
    "    peaks_xy = np.c_[peaks_x, peaks_y]\n",
    "\n",
    "    return peaks_xy \n",
    "\n",
    "def plot_pattern(ptrn_dict, ax=None, offset=0, color=None): \n",
    "    '''Plot a single element peak pattern. \n",
    "    ''' \n",
    "        \n",
    "    element = ptrn_dict['elem']\n",
    "    \n",
    "    x, _ = ptrn_dict['peaks_xy'].T\n",
    "    y = np.zeros_like(x) + offset \n",
    "    alpha_escape_keV = ptrn_dict['alpha_escape_keV']\n",
    "         \n",
    "    left_x = min(x)\n",
    "    right_x = max(x) \n",
    "\n",
    "    if color is None: \n",
    "        facecolor = 'w'\n",
    "        edgecolor = 'grey'\n",
    "        linecolor = 'grey'\n",
    "        linestyle = ':'\n",
    "\n",
    "    else: \n",
    "        facecolor = color \n",
    "        edgecolor = 'k'\n",
    "        linecolor = color\n",
    "        linestyle = '-'\n",
    "\n",
    "    if ax is None: \n",
    "        fig, ax = plt.subplots() \n",
    "\n",
    "    ax.scatter(x, y, s=15, facecolor=facecolor, edgecolor=edgecolor)\n",
    "    ax.scatter(x[0], y[0], marker='s', facecolor=facecolor, edgecolor=edgecolor)\n",
    "    ax.plot([left_x, right_x], [y[0], y[0]], color=edgecolor, linestyle=linestyle, zorder=-10)\n",
    "    ax.scatter(alpha_escape_keV, y[0], marker='|', color=edgecolor) \n",
    "    ax.annotate(element, [right_x, y[0]], xytext=[5, -1], fontsize=8, color='k', \n",
    "                textcoords='offset points', ha='left', va='center') \n",
    "   \n",
    "    return ax "
   ]
  },
  {
   "cell_type": "code",
   "execution_count": 54,
   "metadata": {
    "execution": {
     "iopub.execute_input": "2025-10-13T13:43:24.740758Z",
     "iopub.status.busy": "2025-10-13T13:43:24.740433Z",
     "iopub.status.idle": "2025-10-13T13:43:25.257786Z",
     "shell.execute_reply": "2025-10-13T13:43:25.257350Z",
     "shell.execute_reply.started": "2025-10-13T13:43:24.740736Z"
    }
   },
   "outputs": [
    {
     "data": {
      "text/plain": [
       "{'elem': 'Pb',\n",
       " 'atomic_number': 82,\n",
       " 'alpha_keV': 10.545054505450546,\n",
       " 'name': 'Lead',\n",
       " 'peaks_xy': [array([10.54505451, 12.60926093, 14.76547655,  2.36423642,  9.18491849,\n",
       "         15.17751775, 12.30123012, 13.01330133, 11.34913491]),\n",
       "  array([0.15392372, 0.1204257 , 0.0176001 , 0.01608584, 0.00820976,\n",
       "         0.00589389, 0.0053041 , 0.00475172, 0.00193063])],\n",
       " 'alpha_escape_keV': 8.805054505450546}"
      ]
     },
     "execution_count": 54,
     "metadata": {},
     "output_type": "execute_result"
    }
   ],
   "source": [
    "ptrn_dict = Pb_xrf.get_pattern_dict()\n",
    "ptrn_dict"
   ]
  },
  {
   "cell_type": "code",
   "execution_count": 116,
   "metadata": {
    "execution": {
     "iopub.execute_input": "2025-10-10T14:48:22.135287Z",
     "iopub.status.busy": "2025-10-10T14:48:22.135048Z",
     "iopub.status.idle": "2025-10-10T14:48:22.154597Z",
     "shell.execute_reply": "2025-10-10T14:48:22.154158Z",
     "shell.execute_reply.started": "2025-10-10T14:48:22.135276Z"
    }
   },
   "outputs": [],
   "source": [
    "%matplotlib widget"
   ]
  },
  {
   "cell_type": "markdown",
   "metadata": {},
   "source": [
    "# More ideas "
   ]
  },
  {
   "cell_type": "markdown",
   "metadata": {},
   "source": [
    "## Absorption and scattering "
   ]
  },
  {
   "cell_type": "markdown",
   "metadata": {},
   "source": [
    "The xraydb documentation gives an example calculation for different mass attenuation cross sections."
   ]
  },
  {
   "cell_type": "code",
   "execution_count": 35,
   "metadata": {
    "execution": {
     "iopub.execute_input": "2025-10-13T11:29:21.862325Z",
     "iopub.status.busy": "2025-10-13T11:29:21.861661Z",
     "iopub.status.idle": "2025-10-13T11:29:21.865274Z",
     "shell.execute_reply": "2025-10-13T11:29:21.864703Z",
     "shell.execute_reply.started": "2025-10-13T11:29:21.862297Z"
    }
   },
   "outputs": [],
   "source": [
    "import numpy as np\n",
    "import matplotlib.pyplot as plt\n",
    "from xraydb import mu_elam "
   ]
  },
  {
   "cell_type": "code",
   "execution_count": null,
   "metadata": {},
   "outputs": [
    {
     "data": {
      "text/html": [
       "..<img src=\"./images/90_xphysics_ae0c8c48fa.png\">"
      ]
     },
     "execution_count": null,
     "metadata": {},
     "output_type": "execute_result"
    }
   ],
   "source": [
    "energy = np.arange(500, 25000, 10)  # energy in eV\n",
    "energy_keV = energy / 1000 \n",
    "\n",
    "\n",
    "fig, axs = plt.subplots(nrows=2, ncols=2, figsize=[9, 7], sharex=True, sharey=True) \n",
    "axs = axs.flatten()\n",
    "\n",
    "elements = ['C', 'Ca', 'Fe', 'Pb']\n",
    "\n",
    "for i, elem in enumerate(elements):       \n",
    "\n",
    "    mu_total = mu_elam(elem, energy, kind='total')\n",
    "    mu_photo = mu_elam(elem, energy, kind='photo')\n",
    "    mu_incoh = mu_elam(elem, energy, kind='incoh')\n",
    "    mu_coher = mu_elam(elem, energy, kind='coh')\n",
    "\n",
    "\n",
    "    ax = axs[i]\n",
    "\n",
    "    ax.set_title(f'X-ray mass attenuation for {elem}')\n",
    "    ax.plot(energy_keV, mu_total, linewidth=2, label='Total', alpha=0.5)\n",
    "    ax.plot(energy_keV, mu_photo, linewidth=2, label='Photo-electric', alpha=0.5)\n",
    "    ax.plot(energy_keV, mu_incoh, linewidth=2, label='Incoherent', alpha=0.5)\n",
    "    ax.plot(energy_keV, mu_coher, linewidth=2, label='Coherent', alpha=0.5)\n",
    "\n",
    "    ax.set_xlabel('Energy (keV)')\n",
    "    ax.set_ylabel(r'$\\mu/\\rho \\rm\\, (cm^2/gr)$')\n",
    "    #ax.legend()\n",
    "    ax.set_yscale('log')\n",
    "    \n",
    "axs[0].legend();"
   ]
  },
  {
   "cell_type": "markdown",
   "metadata": {},
   "source": [
    "I would like to see how scattering depends on atomic number $Z$."
   ]
  },
  {
   "cell_type": "code",
   "execution_count": null,
   "metadata": {},
   "outputs": [
    {
     "name": "stdout",
     "output_type": "stream",
     "text": [
      "['H', 'He', 'Li', 'Be', 'B', 'C', 'N', 'O', 'F', 'Ne', 'Na', 'Mg', 'Al', 'Si', 'P', 'S', 'Cl', 'Ar', 'K', 'Ca', 'Sc', 'Ti', 'V', 'Cr', 'Mn', 'Fe', 'Co', 'Ni', 'Cu', 'Zn', 'Ga', 'Ge', 'As', 'Se', 'Br', 'Kr', 'Rb', 'Sr', 'Y', 'Zr', 'Nb', 'Mo', 'Tc', 'Ru', 'Rh', 'Pd', 'Ag', 'Cd', 'In', 'Sn', 'Sb', 'Te', 'I', 'Xe', 'Cs', 'Ba', 'La', 'Ce', 'Pr', 'Nd', 'Pm', 'Sm', 'Eu', 'Gd', 'Tb', 'Dy', 'Ho', 'Er', 'Tm', 'Yb', 'Lu', 'Hf', 'Ta', 'W', 'Re', 'Os', 'Ir', 'Pt', 'Au', 'Hg', 'Tl', 'Pb']\n"
     ]
    }
   ],
   "source": [
    "Z0 = xraydb.atomic_number('H')\n",
    "Z1 = xraydb.atomic_number('Pb') + 1\n",
    "element_list = [xraydb.atomic_symbol(Z) for Z in range(Z0, Z1)]\n",
    "print(element_list)"
   ]
  },
  {
   "cell_type": "code",
   "execution_count": null,
   "metadata": {},
   "outputs": [
    {
     "name": "stdout",
     "output_type": "stream",
     "text": [
      "['H', 'He', 'Li', 'Be', 'B', 'C', 'N', 'O', 'F', 'Ne', 'Na', 'Mg', 'Al', 'Si', 'P', 'S', 'Cl', 'Ar', 'K', 'Ca', 'Sc', 'Ti', 'V', 'Cr', 'Mn', 'Fe', 'Co', 'Ni', 'Cu', 'Zn', 'Ga', 'Ge', 'As', 'Se', 'Br', 'Kr', 'Rb', 'Sr', 'Y', 'Zr', 'Nb', 'Mo', 'Tc', 'Ru', 'Rh', 'Pd', 'Ag', 'Cd', 'In', 'Sn', 'Sb', 'Te', 'I', 'Xe', 'Cs', 'Ba', 'La', 'Ce', 'Pr', 'Nd', 'Pm', 'Sm', 'Eu', 'Gd', 'Tb', 'Dy', 'Ho', 'Er', 'Tm', 'Yb', 'Lu', 'Hf', 'Ta', 'W', 'Re', 'Os', 'Ir', 'Pt', 'Au', 'Hg', 'Tl', 'Pb']\n"
     ]
    }
   ],
   "source": [
    "energy = np.arange(500, 25000, 10)  # energy in eV\n",
    "energy_keV = energy / 1000  \n",
    "\n",
    "elements = element_list\n",
    "\n",
    "print(elements)"
   ]
  },
  {
   "cell_type": "code",
   "execution_count": null,
   "metadata": {},
   "outputs": [],
   "source": [
    "mu_incoh_list = []\n",
    "mu_coh_list = []\n",
    "mu_photo_list = []\n",
    "\n",
    "for elem in elements: \n",
    "    \n",
    "    mu_incoh = xraydb.mu_elam(elem, energy, kind='incoh')\n",
    "    mu_incoh_list.append(mu_incoh)\n",
    "    \n",
    "    mu_coh = xraydb.mu_elam(elem, energy, kind='coh')\n",
    "    mu_coh_list.append(mu_coh)\n",
    "    \n",
    "    mu_photo = xraydb.mu_elam(elem, energy, kind='photo')\n",
    "    mu_photo_list.append(mu_photo)\n",
    "\n",
    "\n",
    "K = np.array(mu_photo_list)\n",
    "S = np.array(mu_coh_list) + np.array(mu_incoh_list) # ignore Compton shift "
   ]
  },
  {
   "cell_type": "code",
   "execution_count": null,
   "metadata": {},
   "outputs": [],
   "source": [
    "cmap = plt.get_cmap('viridis_r')\n",
    "gradient = np.linspace(0, 1, len(elements))\n",
    "colors = cmap(gradient)"
   ]
  },
  {
   "cell_type": "code",
   "execution_count": null,
   "metadata": {},
   "outputs": [
    {
     "data": {
      "text/html": [
       "..<img src=\"./images/90_xphysics_7d797db205.png\">"
      ]
     },
     "execution_count": null,
     "metadata": {},
     "output_type": "execute_result"
    }
   ],
   "source": [
    "fig, [ax0, ax1, ax2] = plt.subplots(ncols=3, sharex=True, sharey=True, figsize=[9, 4])\n",
    "\n",
    "for i, mu in enumerate(mu_incoh_list): \n",
    "    ax0.plot(energy_keV, mu, label=elements[i], color=colors[i]) \n",
    "    ax0.set_xlabel('energy (keV)')\n",
    "    \n",
    "for i, mu in enumerate(mu_coh_list): \n",
    "    ax1.plot(energy_keV, mu, label=elements[i], color=colors[i])\n",
    "    ax1.set_xlabel('energy (keV)')\n",
    "    \n",
    "for i, mu in enumerate(mu_photo_list): \n",
    "    ax2.plot(energy_keV, mu, label=elements[i], color=colors[i])\n",
    "    ax2.set_xlabel('energy (keV)')\n",
    "\n",
    "ax0.set_title('incoh')    \n",
    "ax1.set_title('coh')    \n",
    "ax2.set_title('photo')  \n",
    "\n",
    "logscale = True \n",
    "if logscale == True:\n",
    "    ax0.set_yscale('log')\n",
    "    ax1.set_yscale('log')\n",
    "    ax2.set_yscale('log')\n",
    "#ax.legend()"
   ]
  },
  {
   "cell_type": "markdown",
   "metadata": {},
   "source": [
    "The question now is if we can explain the lead shadow regions in some of light element peak maps. This problem is essentially combining the effects of scattering and absorption of a translucent layer. To calculate reflectance and transmission properties of such a system we can use the results of Kubelka-Munk theory. \n",
    "\n",
    "Given the relatively small energy shift due to inelastic (incoherent) scattering, we can simplify the problem by summing elastic (coherent) and inelastic (incoherent) scattering into a single scattering coefficient $S$. "
   ]
  },
  {
   "cell_type": "code",
   "execution_count": null,
   "metadata": {},
   "outputs": [],
   "source": [
    "def R_inf(K, S): \n",
    "    '''Infinite reflectance from `K` and `S`.\n",
    "    \n",
    "    Calculation with modified Saunderson equation. '''\n",
    "     \n",
    "    Rinf =  (S/K) / ((S/K) + 1 + np.sqrt(1 + 2 * (S/K))) \n",
    "    \n",
    "    return Rinf "
   ]
  },
  {
   "cell_type": "code",
   "execution_count": null,
   "metadata": {},
   "outputs": [],
   "source": [
    "Rinf = R_inf(K, S)"
   ]
  },
  {
   "cell_type": "code",
   "execution_count": null,
   "metadata": {},
   "outputs": [
    {
     "data": {
      "text/plain": [
       "(82, 2450)"
      ]
     },
     "execution_count": null,
     "metadata": {},
     "output_type": "execute_result"
    }
   ],
   "source": [
    "Rinf.shape"
   ]
  },
  {
   "cell_type": "code",
   "execution_count": null,
   "metadata": {},
   "outputs": [
    {
     "data": {
      "text/html": [
       "..<img src=\"./images/90_xphysics_33e84b0c02.png\">"
      ]
     },
     "execution_count": null,
     "metadata": {},
     "output_type": "execute_result"
    }
   ],
   "source": [
    "fig, ax = plt.subplots()\n",
    "\n",
    "extent = [energy_keV.min(), energy_keV.max(), Z0, Z1]\n",
    "\n",
    "im = ax.imshow(Rinf, interpolation='none', origin='lower', aspect=0.3, extent=extent, cmap='Greys_r')\n",
    "\n",
    "fig.colorbar(im, ax=ax)\n",
    "\n",
    "ax.set_title(r'Pure element infinite reflectance $R_{\\infty}$')\n",
    "ax.set_xlabel('Energy (keV)')\n",
    "ax.set_ylabel('Atomic number (Z)'); \n",
    "#ax.set_ylim([0, 20])"
   ]
  },
  {
   "cell_type": "markdown",
   "metadata": {},
   "source": [
    "What we learn here is that the Compton ridge is essentially only due to the abundance of hydrogen in the paper. The scattering of carbon and oxygen can safely be neglected. \n",
    "\n",
    "Next step is the calculation of the transmission of a typical ( $200 ~ g/m^2$) paper... "
   ]
  },
  {
   "cell_type": "code",
   "execution_count": null,
   "metadata": {},
   "outputs": [],
   "source": [
    "mu_paper = xraydb.material_mu('C6H12O6', energy, 0.5)\n",
    "mu_lead = xraydb.material_mu('PbCO3', energy, 20)\n",
    "mu_iron = xraydb.material_mu('Fe', energy, 10)"
   ]
  },
  {
   "cell_type": "code",
   "execution_count": null,
   "metadata": {},
   "outputs": [],
   "source": [
    "d_paper = 0.5 # mm \n",
    "d_lead = 0.001 # mm \n",
    "d_iron = 0.001 # mm \n",
    "\n",
    "T_paper = np.exp(-d_paper * mu_paper)\n",
    "T_lead = np.exp(-d_lead * mu_lead)\n",
    "T_iron = np.exp(-d_iron * mu_iron)"
   ]
  },
  {
   "cell_type": "code",
   "execution_count": null,
   "metadata": {},
   "outputs": [
    {
     "data": {
      "text/html": [
       "..<img src=\"./images/90_xphysics_fdf7ac1bbf.png\">"
      ]
     },
     "execution_count": null,
     "metadata": {},
     "output_type": "execute_result"
    }
   ],
   "source": [
    "fig, ax = plt.subplots(figsize=[9, 4])\n",
    "\n",
    "ax.plot(energy_keV, T_paper, label=f'{d_paper}mm paper')\n",
    "ax.plot(energy_keV, T_lead, label=f'{d_lead}mm lead')\n",
    "ax.plot(energy_keV, T_iron, label=f'{d_iron}mm iron')\n",
    "ax.set_title('Transmission')\n",
    "ax.set_xlabel('energy (keV)')\n",
    "ax.set_ylabel('transmission')\n",
    "ax.legend();"
   ]
  },
  {
   "cell_type": "markdown",
   "metadata": {},
   "source": [
    "So, the one million dollar question now is: what is the expected reflectance of the sandwich? "
   ]
  },
  {
   "cell_type": "code",
   "execution_count": null,
   "metadata": {},
   "outputs": [],
   "source": []
  }
 ],
 "metadata": {
  "kernelspec": {
   "display_name": "Python 3 (ipykernel)",
   "language": "python",
   "name": "python3"
  },
  "language_info": {
   "codemirror_mode": {
    "name": "ipython",
    "version": 3
   },
   "file_extension": ".py",
   "mimetype": "text/x-python",
   "name": "python",
   "nbconvert_exporter": "python",
   "pygments_lexer": "ipython3",
   "version": "3.12.9"
  }
 },
 "nbformat": 4,
 "nbformat_minor": 4
}
